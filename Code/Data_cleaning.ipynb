{
 "cells": [
  {
   "cell_type": "code",
   "execution_count": 53,
   "metadata": {},
   "outputs": [],
   "source": [
    "import pandas as pd "
   ]
  },
  {
   "cell_type": "markdown",
   "metadata": {},
   "source": [
    "# CIPLA"
   ]
  },
  {
   "cell_type": "code",
   "execution_count": 54,
   "metadata": {},
   "outputs": [
    {
     "data": {
      "text/html": [
       "<div>\n",
       "<style scoped>\n",
       "    .dataframe tbody tr th:only-of-type {\n",
       "        vertical-align: middle;\n",
       "    }\n",
       "\n",
       "    .dataframe tbody tr th {\n",
       "        vertical-align: top;\n",
       "    }\n",
       "\n",
       "    .dataframe thead th {\n",
       "        text-align: right;\n",
       "    }\n",
       "</style>\n",
       "<table border=\"1\" class=\"dataframe\">\n",
       "  <thead>\n",
       "    <tr style=\"text-align: right;\">\n",
       "      <th></th>\n",
       "      <th>Date</th>\n",
       "      <th>Open</th>\n",
       "      <th>High</th>\n",
       "      <th>Low</th>\n",
       "      <th>Close</th>\n",
       "      <th>Adj Close</th>\n",
       "      <th>Volume</th>\n",
       "      <th>Name</th>\n",
       "    </tr>\n",
       "  </thead>\n",
       "  <tbody>\n",
       "    <tr>\n",
       "      <th>0</th>\n",
       "      <td>2018-04-02</td>\n",
       "      <td>548.000000</td>\n",
       "      <td>578.950012</td>\n",
       "      <td>545.900024</td>\n",
       "      <td>576.250000</td>\n",
       "      <td>562.826416</td>\n",
       "      <td>2823880</td>\n",
       "      <td>CIPLA</td>\n",
       "    </tr>\n",
       "    <tr>\n",
       "      <th>1</th>\n",
       "      <td>2018-04-03</td>\n",
       "      <td>572.000000</td>\n",
       "      <td>578.349976</td>\n",
       "      <td>568.799988</td>\n",
       "      <td>570.299988</td>\n",
       "      <td>557.014954</td>\n",
       "      <td>2493190</td>\n",
       "      <td>CIPLA</td>\n",
       "    </tr>\n",
       "    <tr>\n",
       "      <th>2</th>\n",
       "      <td>2018-04-04</td>\n",
       "      <td>572.349976</td>\n",
       "      <td>575.450012</td>\n",
       "      <td>564.500000</td>\n",
       "      <td>569.799988</td>\n",
       "      <td>556.526672</td>\n",
       "      <td>1852997</td>\n",
       "      <td>CIPLA</td>\n",
       "    </tr>\n",
       "    <tr>\n",
       "      <th>3</th>\n",
       "      <td>2018-04-05</td>\n",
       "      <td>574.000000</td>\n",
       "      <td>578.549988</td>\n",
       "      <td>558.349976</td>\n",
       "      <td>560.349976</td>\n",
       "      <td>547.296753</td>\n",
       "      <td>2396864</td>\n",
       "      <td>CIPLA</td>\n",
       "    </tr>\n",
       "    <tr>\n",
       "      <th>4</th>\n",
       "      <td>2018-04-06</td>\n",
       "      <td>560.299988</td>\n",
       "      <td>571.000000</td>\n",
       "      <td>557.250000</td>\n",
       "      <td>558.950012</td>\n",
       "      <td>545.929382</td>\n",
       "      <td>2420324</td>\n",
       "      <td>CIPLA</td>\n",
       "    </tr>\n",
       "  </tbody>\n",
       "</table>\n",
       "</div>"
      ],
      "text/plain": [
       "         Date        Open        High         Low       Close   Adj Close  \\\n",
       "0  2018-04-02  548.000000  578.950012  545.900024  576.250000  562.826416   \n",
       "1  2018-04-03  572.000000  578.349976  568.799988  570.299988  557.014954   \n",
       "2  2018-04-04  572.349976  575.450012  564.500000  569.799988  556.526672   \n",
       "3  2018-04-05  574.000000  578.549988  558.349976  560.349976  547.296753   \n",
       "4  2018-04-06  560.299988  571.000000  557.250000  558.950012  545.929382   \n",
       "\n",
       "    Volume   Name  \n",
       "0  2823880  CIPLA  \n",
       "1  2493190  CIPLA  \n",
       "2  1852997  CIPLA  \n",
       "3  2396864  CIPLA  \n",
       "4  2420324  CIPLA  "
      ]
     },
     "execution_count": 54,
     "metadata": {},
     "output_type": "execute_result"
    }
   ],
   "source": [
    "CIPLA_df = pd.read_csv(\"D:\\Study\\Project\\Stocks-Visualizing-and-Analysis\\Datasets\\CIPLA.NS .csv\")\n",
    "CIPLA_df[\"Name\"]=\"CIPLA\"\n",
    "CIPLA_df.head()"
   ]
  },
  {
   "cell_type": "code",
   "execution_count": 55,
   "metadata": {},
   "outputs": [
    {
     "data": {
      "text/html": [
       "<div>\n",
       "<style scoped>\n",
       "    .dataframe tbody tr th:only-of-type {\n",
       "        vertical-align: middle;\n",
       "    }\n",
       "\n",
       "    .dataframe tbody tr th {\n",
       "        vertical-align: top;\n",
       "    }\n",
       "\n",
       "    .dataframe thead th {\n",
       "        text-align: right;\n",
       "    }\n",
       "</style>\n",
       "<table border=\"1\" class=\"dataframe\">\n",
       "  <thead>\n",
       "    <tr style=\"text-align: right;\">\n",
       "      <th></th>\n",
       "      <th>Date</th>\n",
       "      <th>Open</th>\n",
       "      <th>High</th>\n",
       "      <th>Low</th>\n",
       "      <th>Close</th>\n",
       "      <th>Adj Close</th>\n",
       "      <th>Volume</th>\n",
       "      <th>Name</th>\n",
       "    </tr>\n",
       "  </thead>\n",
       "  <tbody>\n",
       "    <tr>\n",
       "      <th>0</th>\n",
       "      <td>2018-04-02</td>\n",
       "      <td>548.0</td>\n",
       "      <td>578.95</td>\n",
       "      <td>545.9</td>\n",
       "      <td>576.25</td>\n",
       "      <td>562.83</td>\n",
       "      <td>2823880</td>\n",
       "      <td>CIPLA</td>\n",
       "    </tr>\n",
       "    <tr>\n",
       "      <th>1</th>\n",
       "      <td>2018-04-03</td>\n",
       "      <td>572.0</td>\n",
       "      <td>578.35</td>\n",
       "      <td>568.8</td>\n",
       "      <td>570.30</td>\n",
       "      <td>557.01</td>\n",
       "      <td>2493190</td>\n",
       "      <td>CIPLA</td>\n",
       "    </tr>\n",
       "  </tbody>\n",
       "</table>\n",
       "</div>"
      ],
      "text/plain": [
       "         Date   Open    High    Low   Close  Adj Close   Volume   Name\n",
       "0  2018-04-02  548.0  578.95  545.9  576.25     562.83  2823880  CIPLA\n",
       "1  2018-04-03  572.0  578.35  568.8  570.30     557.01  2493190  CIPLA"
      ]
     },
     "execution_count": 55,
     "metadata": {},
     "output_type": "execute_result"
    }
   ],
   "source": [
    "#as the data is too big. i am rounding of the data after decimals.\n",
    "CIPLA_df = CIPLA_df.round(2)\n",
    "CIPLA_df.head(2)"
   ]
  },
  {
   "cell_type": "code",
   "execution_count": 56,
   "metadata": {},
   "outputs": [
    {
     "data": {
      "text/plain": [
       "Date         0\n",
       "Open         0\n",
       "High         0\n",
       "Low          0\n",
       "Close        0\n",
       "Adj Close    0\n",
       "Volume       0\n",
       "Name         0\n",
       "dtype: int64"
      ]
     },
     "execution_count": 56,
     "metadata": {},
     "output_type": "execute_result"
    }
   ],
   "source": [
    "CIPLA_df.isnull().sum()"
   ]
  },
  {
   "cell_type": "code",
   "execution_count": 57,
   "metadata": {},
   "outputs": [],
   "source": [
    "CIPLA_df.dropna(inplace = True, axis = 0)"
   ]
  },
  {
   "cell_type": "code",
   "execution_count": 58,
   "metadata": {},
   "outputs": [
    {
     "data": {
      "text/plain": [
       "(989, 8)"
      ]
     },
     "execution_count": 58,
     "metadata": {},
     "output_type": "execute_result"
    }
   ],
   "source": [
    "#here is checked the size of data\n",
    "CIPLA_df.shape"
   ]
  },
  {
   "cell_type": "code",
   "execution_count": 59,
   "metadata": {},
   "outputs": [
    {
     "data": {
      "text/plain": [
       "Date         0\n",
       "Open         0\n",
       "High         0\n",
       "Low          0\n",
       "Close        0\n",
       "Adj Close    0\n",
       "Volume       0\n",
       "Name         0\n",
       "dtype: int64"
      ]
     },
     "execution_count": 59,
     "metadata": {},
     "output_type": "execute_result"
    }
   ],
   "source": [
    "#here checking if there is any null values in the dataset\n",
    "CIPLA_df.isnull().sum()"
   ]
  },
  {
   "cell_type": "markdown",
   "metadata": {},
   "source": [
    "in the output of null values we found that there is not null value in the dataset"
   ]
  },
  {
   "cell_type": "code",
   "execution_count": 60,
   "metadata": {},
   "outputs": [
    {
     "data": {
      "text/plain": [
       "Date          object\n",
       "Open         float64\n",
       "High         float64\n",
       "Low          float64\n",
       "Close        float64\n",
       "Adj Close    float64\n",
       "Volume         int64\n",
       "Name          object\n",
       "dtype: object"
      ]
     },
     "execution_count": 60,
     "metadata": {},
     "output_type": "execute_result"
    }
   ],
   "source": [
    "#lets check the datatypes of each the column\n",
    "CIPLA_df.dtypes"
   ]
  },
  {
   "cell_type": "code",
   "execution_count": 61,
   "metadata": {},
   "outputs": [
    {
     "data": {
      "text/html": [
       "<div>\n",
       "<style scoped>\n",
       "    .dataframe tbody tr th:only-of-type {\n",
       "        vertical-align: middle;\n",
       "    }\n",
       "\n",
       "    .dataframe tbody tr th {\n",
       "        vertical-align: top;\n",
       "    }\n",
       "\n",
       "    .dataframe thead th {\n",
       "        text-align: right;\n",
       "    }\n",
       "</style>\n",
       "<table border=\"1\" class=\"dataframe\">\n",
       "  <thead>\n",
       "    <tr style=\"text-align: right;\">\n",
       "      <th></th>\n",
       "      <th>Date</th>\n",
       "      <th>Open</th>\n",
       "      <th>High</th>\n",
       "      <th>Low</th>\n",
       "      <th>Close</th>\n",
       "      <th>Adj Close</th>\n",
       "      <th>Volume</th>\n",
       "      <th>Name</th>\n",
       "    </tr>\n",
       "  </thead>\n",
       "  <tbody>\n",
       "    <tr>\n",
       "      <th>0</th>\n",
       "      <td>2018-04-02</td>\n",
       "      <td>548.0</td>\n",
       "      <td>578.95</td>\n",
       "      <td>545.9</td>\n",
       "      <td>576.25</td>\n",
       "      <td>562.83</td>\n",
       "      <td>2823880</td>\n",
       "      <td>CIPLA</td>\n",
       "    </tr>\n",
       "    <tr>\n",
       "      <th>1</th>\n",
       "      <td>2018-04-03</td>\n",
       "      <td>572.0</td>\n",
       "      <td>578.35</td>\n",
       "      <td>568.8</td>\n",
       "      <td>570.30</td>\n",
       "      <td>557.01</td>\n",
       "      <td>2493190</td>\n",
       "      <td>CIPLA</td>\n",
       "    </tr>\n",
       "  </tbody>\n",
       "</table>\n",
       "</div>"
      ],
      "text/plain": [
       "        Date   Open    High    Low   Close  Adj Close   Volume   Name\n",
       "0 2018-04-02  548.0  578.95  545.9  576.25     562.83  2823880  CIPLA\n",
       "1 2018-04-03  572.0  578.35  568.8  570.30     557.01  2493190  CIPLA"
      ]
     },
     "execution_count": 61,
     "metadata": {},
     "output_type": "execute_result"
    }
   ],
   "source": [
    "#here we can see that data is in object format. pandas has inbuilt functions for data but the data should be in type ‘datetime64(ns)’\n",
    "CIPLA_df['Date'] = pd.to_datetime(CIPLA_df['Date'])\n",
    "CIPLA_df.head(2)"
   ]
  },
  {
   "cell_type": "code",
   "execution_count": 62,
   "metadata": {},
   "outputs": [
    {
     "data": {
      "text/plain": [
       "Date         datetime64[ns]\n",
       "Open                float64\n",
       "High                float64\n",
       "Low                 float64\n",
       "Close               float64\n",
       "Adj Close           float64\n",
       "Volume                int64\n",
       "Name                 object\n",
       "dtype: object"
      ]
     },
     "execution_count": 62,
     "metadata": {},
     "output_type": "execute_result"
    }
   ],
   "source": [
    "CIPLA_df.dtypes"
   ]
  },
  {
   "cell_type": "markdown",
   "metadata": {},
   "source": [
    "here we can see that the datatype of the data column changed to datetime64[ns]"
   ]
  },
  {
   "cell_type": "code",
   "execution_count": 63,
   "metadata": {},
   "outputs": [
    {
     "data": {
      "text/plain": [
       "Timedelta('1459 days 00:00:00')"
      ]
     },
     "execution_count": 63,
     "metadata": {},
     "output_type": "execute_result"
    }
   ],
   "source": [
    "#here we can check total duration of analysis\n",
    "CIPLA_df['Date'].max()-CIPLA_df['Date'].min()"
   ]
  },
  {
   "cell_type": "code",
   "execution_count": 64,
   "metadata": {},
   "outputs": [
    {
     "data": {
      "text/html": [
       "<div>\n",
       "<style scoped>\n",
       "    .dataframe tbody tr th:only-of-type {\n",
       "        vertical-align: middle;\n",
       "    }\n",
       "\n",
       "    .dataframe tbody tr th {\n",
       "        vertical-align: top;\n",
       "    }\n",
       "\n",
       "    .dataframe thead th {\n",
       "        text-align: right;\n",
       "    }\n",
       "</style>\n",
       "<table border=\"1\" class=\"dataframe\">\n",
       "  <thead>\n",
       "    <tr style=\"text-align: right;\">\n",
       "      <th></th>\n",
       "      <th>Open</th>\n",
       "      <th>High</th>\n",
       "      <th>Low</th>\n",
       "      <th>Close</th>\n",
       "      <th>Adj Close</th>\n",
       "      <th>Volume</th>\n",
       "    </tr>\n",
       "  </thead>\n",
       "  <tbody>\n",
       "    <tr>\n",
       "      <th>count</th>\n",
       "      <td>989</td>\n",
       "      <td>989</td>\n",
       "      <td>989</td>\n",
       "      <td>989</td>\n",
       "      <td>989</td>\n",
       "      <td>989</td>\n",
       "    </tr>\n",
       "    <tr>\n",
       "      <th>mean</th>\n",
       "      <td>683</td>\n",
       "      <td>691</td>\n",
       "      <td>673</td>\n",
       "      <td>681</td>\n",
       "      <td>673</td>\n",
       "      <td>4107481</td>\n",
       "    </tr>\n",
       "    <tr>\n",
       "      <th>std</th>\n",
       "      <td>179</td>\n",
       "      <td>181</td>\n",
       "      <td>177</td>\n",
       "      <td>179</td>\n",
       "      <td>180</td>\n",
       "      <td>4229453</td>\n",
       "    </tr>\n",
       "    <tr>\n",
       "      <th>min</th>\n",
       "      <td>370</td>\n",
       "      <td>390</td>\n",
       "      <td>355</td>\n",
       "      <td>374</td>\n",
       "      <td>370</td>\n",
       "      <td>96347</td>\n",
       "    </tr>\n",
       "    <tr>\n",
       "      <th>25%</th>\n",
       "      <td>531</td>\n",
       "      <td>536</td>\n",
       "      <td>525</td>\n",
       "      <td>531</td>\n",
       "      <td>520</td>\n",
       "      <td>1708157</td>\n",
       "    </tr>\n",
       "    <tr>\n",
       "      <th>50%</th>\n",
       "      <td>639</td>\n",
       "      <td>646</td>\n",
       "      <td>631</td>\n",
       "      <td>637</td>\n",
       "      <td>627</td>\n",
       "      <td>2647759</td>\n",
       "    </tr>\n",
       "    <tr>\n",
       "      <th>75%</th>\n",
       "      <td>850</td>\n",
       "      <td>864</td>\n",
       "      <td>841</td>\n",
       "      <td>848</td>\n",
       "      <td>839</td>\n",
       "      <td>5072916</td>\n",
       "    </tr>\n",
       "    <tr>\n",
       "      <th>max</th>\n",
       "      <td>1077</td>\n",
       "      <td>1083</td>\n",
       "      <td>1049</td>\n",
       "      <td>1068</td>\n",
       "      <td>1062</td>\n",
       "      <td>56895213</td>\n",
       "    </tr>\n",
       "  </tbody>\n",
       "</table>\n",
       "</div>"
      ],
      "text/plain": [
       "       Open  High   Low  Close  Adj Close    Volume\n",
       "count   989   989   989    989        989       989\n",
       "mean    683   691   673    681        673   4107481\n",
       "std     179   181   177    179        180   4229453\n",
       "min     370   390   355    374        370     96347\n",
       "25%     531   536   525    531        520   1708157\n",
       "50%     639   646   631    637        627   2647759\n",
       "75%     850   864   841    848        839   5072916\n",
       "max    1077  1083  1049   1068       1062  56895213"
      ]
     },
     "execution_count": 64,
     "metadata": {},
     "output_type": "execute_result"
    }
   ],
   "source": [
    "#describe function in pandas is used to get the descriptive data from the data. and with that i have used to astype to change the data from the float to the int.\n",
    "CIPLA_df.describe().astype(int)"
   ]
  },
  {
   "cell_type": "code",
   "execution_count": 65,
   "metadata": {},
   "outputs": [],
   "source": [
    "#Downloading Cleaned Data\n",
    "cleaned_cipla = CIPLA_df\n",
    "cleaned_cipla.to_csv(\"Cleaned Cipla.csv\")"
   ]
  },
  {
   "cell_type": "markdown",
   "metadata": {},
   "source": [
    "# Hindustan Unilever"
   ]
  },
  {
   "cell_type": "code",
   "execution_count": 66,
   "metadata": {},
   "outputs": [
    {
     "data": {
      "text/html": [
       "<div>\n",
       "<style scoped>\n",
       "    .dataframe tbody tr th:only-of-type {\n",
       "        vertical-align: middle;\n",
       "    }\n",
       "\n",
       "    .dataframe tbody tr th {\n",
       "        vertical-align: top;\n",
       "    }\n",
       "\n",
       "    .dataframe thead th {\n",
       "        text-align: right;\n",
       "    }\n",
       "</style>\n",
       "<table border=\"1\" class=\"dataframe\">\n",
       "  <thead>\n",
       "    <tr style=\"text-align: right;\">\n",
       "      <th></th>\n",
       "      <th>Date</th>\n",
       "      <th>Open</th>\n",
       "      <th>High</th>\n",
       "      <th>Low</th>\n",
       "      <th>Close</th>\n",
       "      <th>Adj Close</th>\n",
       "      <th>Volume</th>\n",
       "      <th>Name</th>\n",
       "    </tr>\n",
       "  </thead>\n",
       "  <tbody>\n",
       "    <tr>\n",
       "      <th>0</th>\n",
       "      <td>2018-04-02</td>\n",
       "      <td>1315.000000</td>\n",
       "      <td>1360.550049</td>\n",
       "      <td>1315.000000</td>\n",
       "      <td>1351.300049</td>\n",
       "      <td>1246.386230</td>\n",
       "      <td>708747</td>\n",
       "      <td>HINDUNILVR</td>\n",
       "    </tr>\n",
       "    <tr>\n",
       "      <th>1</th>\n",
       "      <td>2018-04-03</td>\n",
       "      <td>1347.099976</td>\n",
       "      <td>1355.500000</td>\n",
       "      <td>1338.650024</td>\n",
       "      <td>1348.400024</td>\n",
       "      <td>1243.711426</td>\n",
       "      <td>979726</td>\n",
       "      <td>HINDUNILVR</td>\n",
       "    </tr>\n",
       "    <tr>\n",
       "      <th>2</th>\n",
       "      <td>2018-04-04</td>\n",
       "      <td>1348.000000</td>\n",
       "      <td>1360.000000</td>\n",
       "      <td>1339.550049</td>\n",
       "      <td>1357.449951</td>\n",
       "      <td>1252.058594</td>\n",
       "      <td>912607</td>\n",
       "      <td>HINDUNILVR</td>\n",
       "    </tr>\n",
       "    <tr>\n",
       "      <th>3</th>\n",
       "      <td>2018-04-05</td>\n",
       "      <td>1380.000000</td>\n",
       "      <td>1383.800049</td>\n",
       "      <td>1362.699951</td>\n",
       "      <td>1382.199951</td>\n",
       "      <td>1274.887085</td>\n",
       "      <td>588716</td>\n",
       "      <td>HINDUNILVR</td>\n",
       "    </tr>\n",
       "    <tr>\n",
       "      <th>4</th>\n",
       "      <td>2018-04-06</td>\n",
       "      <td>1381.949951</td>\n",
       "      <td>1381.949951</td>\n",
       "      <td>1362.449951</td>\n",
       "      <td>1374.800049</td>\n",
       "      <td>1268.061768</td>\n",
       "      <td>633937</td>\n",
       "      <td>HINDUNILVR</td>\n",
       "    </tr>\n",
       "  </tbody>\n",
       "</table>\n",
       "</div>"
      ],
      "text/plain": [
       "         Date         Open         High          Low        Close  \\\n",
       "0  2018-04-02  1315.000000  1360.550049  1315.000000  1351.300049   \n",
       "1  2018-04-03  1347.099976  1355.500000  1338.650024  1348.400024   \n",
       "2  2018-04-04  1348.000000  1360.000000  1339.550049  1357.449951   \n",
       "3  2018-04-05  1380.000000  1383.800049  1362.699951  1382.199951   \n",
       "4  2018-04-06  1381.949951  1381.949951  1362.449951  1374.800049   \n",
       "\n",
       "     Adj Close  Volume        Name  \n",
       "0  1246.386230  708747  HINDUNILVR  \n",
       "1  1243.711426  979726  HINDUNILVR  \n",
       "2  1252.058594  912607  HINDUNILVR  \n",
       "3  1274.887085  588716  HINDUNILVR  \n",
       "4  1268.061768  633937  HINDUNILVR  "
      ]
     },
     "execution_count": 66,
     "metadata": {},
     "output_type": "execute_result"
    }
   ],
   "source": [
    "HINDUNILVR_df = pd.read_csv(\"D:\\Study\\Project\\Stocks-Visualizing-and-Analysis\\Datasets\\HINDUNILVR.NS.csv\")\n",
    "HINDUNILVR_df[\"Name\"]=\"HINDUNILVR\"\n",
    "HINDUNILVR_df.head()"
   ]
  },
  {
   "cell_type": "code",
   "execution_count": 67,
   "metadata": {},
   "outputs": [
    {
     "data": {
      "text/html": [
       "<div>\n",
       "<style scoped>\n",
       "    .dataframe tbody tr th:only-of-type {\n",
       "        vertical-align: middle;\n",
       "    }\n",
       "\n",
       "    .dataframe tbody tr th {\n",
       "        vertical-align: top;\n",
       "    }\n",
       "\n",
       "    .dataframe thead th {\n",
       "        text-align: right;\n",
       "    }\n",
       "</style>\n",
       "<table border=\"1\" class=\"dataframe\">\n",
       "  <thead>\n",
       "    <tr style=\"text-align: right;\">\n",
       "      <th></th>\n",
       "      <th>Date</th>\n",
       "      <th>Open</th>\n",
       "      <th>High</th>\n",
       "      <th>Low</th>\n",
       "      <th>Close</th>\n",
       "      <th>Adj Close</th>\n",
       "      <th>Volume</th>\n",
       "      <th>Name</th>\n",
       "    </tr>\n",
       "  </thead>\n",
       "  <tbody>\n",
       "    <tr>\n",
       "      <th>0</th>\n",
       "      <td>2018-04-02</td>\n",
       "      <td>1315.0</td>\n",
       "      <td>1360.55</td>\n",
       "      <td>1315.00</td>\n",
       "      <td>1351.3</td>\n",
       "      <td>1246.39</td>\n",
       "      <td>708747</td>\n",
       "      <td>HINDUNILVR</td>\n",
       "    </tr>\n",
       "    <tr>\n",
       "      <th>1</th>\n",
       "      <td>2018-04-03</td>\n",
       "      <td>1347.1</td>\n",
       "      <td>1355.50</td>\n",
       "      <td>1338.65</td>\n",
       "      <td>1348.4</td>\n",
       "      <td>1243.71</td>\n",
       "      <td>979726</td>\n",
       "      <td>HINDUNILVR</td>\n",
       "    </tr>\n",
       "  </tbody>\n",
       "</table>\n",
       "</div>"
      ],
      "text/plain": [
       "         Date    Open     High      Low   Close  Adj Close  Volume        Name\n",
       "0  2018-04-02  1315.0  1360.55  1315.00  1351.3    1246.39  708747  HINDUNILVR\n",
       "1  2018-04-03  1347.1  1355.50  1338.65  1348.4    1243.71  979726  HINDUNILVR"
      ]
     },
     "execution_count": 67,
     "metadata": {},
     "output_type": "execute_result"
    }
   ],
   "source": [
    "#as the data is too big. i am rounding of the data after decimals.\n",
    "HINDUNILVR_df = HINDUNILVR_df.round(2)\n",
    "HINDUNILVR_df.head(2)"
   ]
  },
  {
   "cell_type": "code",
   "execution_count": 68,
   "metadata": {},
   "outputs": [
    {
     "data": {
      "text/plain": [
       "Date         0\n",
       "Open         0\n",
       "High         0\n",
       "Low          0\n",
       "Close        0\n",
       "Adj Close    0\n",
       "Volume       0\n",
       "Name         0\n",
       "dtype: int64"
      ]
     },
     "execution_count": 68,
     "metadata": {},
     "output_type": "execute_result"
    }
   ],
   "source": [
    "HINDUNILVR_df.isnull().sum()"
   ]
  },
  {
   "cell_type": "code",
   "execution_count": 69,
   "metadata": {},
   "outputs": [],
   "source": [
    "HINDUNILVR_df.dropna(inplace = True, axis = 0)"
   ]
  },
  {
   "cell_type": "code",
   "execution_count": 70,
   "metadata": {},
   "outputs": [
    {
     "data": {
      "text/plain": [
       "(989, 8)"
      ]
     },
     "execution_count": 70,
     "metadata": {},
     "output_type": "execute_result"
    }
   ],
   "source": [
    "#here is checked the size of data\n",
    "HINDUNILVR_df.shape"
   ]
  },
  {
   "cell_type": "code",
   "execution_count": 71,
   "metadata": {},
   "outputs": [
    {
     "data": {
      "text/plain": [
       "Date         0\n",
       "Open         0\n",
       "High         0\n",
       "Low          0\n",
       "Close        0\n",
       "Adj Close    0\n",
       "Volume       0\n",
       "Name         0\n",
       "dtype: int64"
      ]
     },
     "execution_count": 71,
     "metadata": {},
     "output_type": "execute_result"
    }
   ],
   "source": [
    "#here checking if there is any null values in the dataset\n",
    "HINDUNILVR_df.isnull().sum()"
   ]
  },
  {
   "cell_type": "markdown",
   "metadata": {},
   "source": [
    "in the output of null values we found that there is not null value in the dataset"
   ]
  },
  {
   "cell_type": "code",
   "execution_count": 72,
   "metadata": {},
   "outputs": [
    {
     "data": {
      "text/plain": [
       "Date          object\n",
       "Open         float64\n",
       "High         float64\n",
       "Low          float64\n",
       "Close        float64\n",
       "Adj Close    float64\n",
       "Volume         int64\n",
       "Name          object\n",
       "dtype: object"
      ]
     },
     "execution_count": 72,
     "metadata": {},
     "output_type": "execute_result"
    }
   ],
   "source": [
    "#lets check the datatypes of each the column\n",
    "HINDUNILVR_df.dtypes"
   ]
  },
  {
   "cell_type": "code",
   "execution_count": 73,
   "metadata": {},
   "outputs": [
    {
     "data": {
      "text/html": [
       "<div>\n",
       "<style scoped>\n",
       "    .dataframe tbody tr th:only-of-type {\n",
       "        vertical-align: middle;\n",
       "    }\n",
       "\n",
       "    .dataframe tbody tr th {\n",
       "        vertical-align: top;\n",
       "    }\n",
       "\n",
       "    .dataframe thead th {\n",
       "        text-align: right;\n",
       "    }\n",
       "</style>\n",
       "<table border=\"1\" class=\"dataframe\">\n",
       "  <thead>\n",
       "    <tr style=\"text-align: right;\">\n",
       "      <th></th>\n",
       "      <th>Date</th>\n",
       "      <th>Open</th>\n",
       "      <th>High</th>\n",
       "      <th>Low</th>\n",
       "      <th>Close</th>\n",
       "      <th>Adj Close</th>\n",
       "      <th>Volume</th>\n",
       "      <th>Name</th>\n",
       "    </tr>\n",
       "  </thead>\n",
       "  <tbody>\n",
       "    <tr>\n",
       "      <th>0</th>\n",
       "      <td>2018-04-02</td>\n",
       "      <td>1315.0</td>\n",
       "      <td>1360.55</td>\n",
       "      <td>1315.00</td>\n",
       "      <td>1351.3</td>\n",
       "      <td>1246.39</td>\n",
       "      <td>708747</td>\n",
       "      <td>HINDUNILVR</td>\n",
       "    </tr>\n",
       "    <tr>\n",
       "      <th>1</th>\n",
       "      <td>2018-04-03</td>\n",
       "      <td>1347.1</td>\n",
       "      <td>1355.50</td>\n",
       "      <td>1338.65</td>\n",
       "      <td>1348.4</td>\n",
       "      <td>1243.71</td>\n",
       "      <td>979726</td>\n",
       "      <td>HINDUNILVR</td>\n",
       "    </tr>\n",
       "  </tbody>\n",
       "</table>\n",
       "</div>"
      ],
      "text/plain": [
       "        Date    Open     High      Low   Close  Adj Close  Volume        Name\n",
       "0 2018-04-02  1315.0  1360.55  1315.00  1351.3    1246.39  708747  HINDUNILVR\n",
       "1 2018-04-03  1347.1  1355.50  1338.65  1348.4    1243.71  979726  HINDUNILVR"
      ]
     },
     "execution_count": 73,
     "metadata": {},
     "output_type": "execute_result"
    }
   ],
   "source": [
    "#here we can see that data is in object format. pandas has inbuilt functions for data but the data should be in type ‘datetime64(ns)’\n",
    "HINDUNILVR_df['Date'] = pd.to_datetime(HINDUNILVR_df['Date'])\n",
    "HINDUNILVR_df.head(2)"
   ]
  },
  {
   "cell_type": "code",
   "execution_count": 74,
   "metadata": {},
   "outputs": [
    {
     "data": {
      "text/plain": [
       "Date         datetime64[ns]\n",
       "Open                float64\n",
       "High                float64\n",
       "Low                 float64\n",
       "Close               float64\n",
       "Adj Close           float64\n",
       "Volume                int64\n",
       "Name                 object\n",
       "dtype: object"
      ]
     },
     "execution_count": 74,
     "metadata": {},
     "output_type": "execute_result"
    }
   ],
   "source": [
    "HINDUNILVR_df.dtypes"
   ]
  },
  {
   "cell_type": "markdown",
   "metadata": {},
   "source": [
    "here we can see that the datatype of the data column changed to datetime64[ns]"
   ]
  },
  {
   "cell_type": "code",
   "execution_count": 75,
   "metadata": {},
   "outputs": [
    {
     "data": {
      "text/plain": [
       "Timedelta('1459 days 00:00:00')"
      ]
     },
     "execution_count": 75,
     "metadata": {},
     "output_type": "execute_result"
    }
   ],
   "source": [
    "#here we can check total duration of analysis\n",
    "HINDUNILVR_df['Date'].max()-HINDUNILVR_df['Date'].min()"
   ]
  },
  {
   "cell_type": "code",
   "execution_count": 76,
   "metadata": {},
   "outputs": [
    {
     "data": {
      "text/html": [
       "<div>\n",
       "<style scoped>\n",
       "    .dataframe tbody tr th:only-of-type {\n",
       "        vertical-align: middle;\n",
       "    }\n",
       "\n",
       "    .dataframe tbody tr th {\n",
       "        vertical-align: top;\n",
       "    }\n",
       "\n",
       "    .dataframe thead th {\n",
       "        text-align: right;\n",
       "    }\n",
       "</style>\n",
       "<table border=\"1\" class=\"dataframe\">\n",
       "  <thead>\n",
       "    <tr style=\"text-align: right;\">\n",
       "      <th></th>\n",
       "      <th>Open</th>\n",
       "      <th>High</th>\n",
       "      <th>Low</th>\n",
       "      <th>Close</th>\n",
       "      <th>Adj Close</th>\n",
       "      <th>Volume</th>\n",
       "    </tr>\n",
       "  </thead>\n",
       "  <tbody>\n",
       "    <tr>\n",
       "      <th>count</th>\n",
       "      <td>989</td>\n",
       "      <td>989</td>\n",
       "      <td>989</td>\n",
       "      <td>989</td>\n",
       "      <td>989</td>\n",
       "      <td>989</td>\n",
       "    </tr>\n",
       "    <tr>\n",
       "      <th>mean</th>\n",
       "      <td>2050</td>\n",
       "      <td>2070</td>\n",
       "      <td>2027</td>\n",
       "      <td>2048</td>\n",
       "      <td>1950</td>\n",
       "      <td>2124460</td>\n",
       "    </tr>\n",
       "    <tr>\n",
       "      <th>std</th>\n",
       "      <td>317</td>\n",
       "      <td>319</td>\n",
       "      <td>312</td>\n",
       "      <td>315</td>\n",
       "      <td>328</td>\n",
       "      <td>6069969</td>\n",
       "    </tr>\n",
       "    <tr>\n",
       "      <th>min</th>\n",
       "      <td>1315</td>\n",
       "      <td>1355</td>\n",
       "      <td>1315</td>\n",
       "      <td>1348</td>\n",
       "      <td>1243</td>\n",
       "      <td>85187</td>\n",
       "    </tr>\n",
       "    <tr>\n",
       "      <th>25%</th>\n",
       "      <td>1766</td>\n",
       "      <td>1779</td>\n",
       "      <td>1746</td>\n",
       "      <td>1763</td>\n",
       "      <td>1648</td>\n",
       "      <td>1099574</td>\n",
       "    </tr>\n",
       "    <tr>\n",
       "      <th>50%</th>\n",
       "      <td>2090</td>\n",
       "      <td>2116</td>\n",
       "      <td>2062</td>\n",
       "      <td>2087</td>\n",
       "      <td>1989</td>\n",
       "      <td>1573884</td>\n",
       "    </tr>\n",
       "    <tr>\n",
       "      <th>75%</th>\n",
       "      <td>2310</td>\n",
       "      <td>2330</td>\n",
       "      <td>2281</td>\n",
       "      <td>2307</td>\n",
       "      <td>2232</td>\n",
       "      <td>2251405</td>\n",
       "    </tr>\n",
       "    <tr>\n",
       "      <th>max</th>\n",
       "      <td>2827</td>\n",
       "      <td>2859</td>\n",
       "      <td>2796</td>\n",
       "      <td>2812</td>\n",
       "      <td>2727</td>\n",
       "      <td>185669922</td>\n",
       "    </tr>\n",
       "  </tbody>\n",
       "</table>\n",
       "</div>"
      ],
      "text/plain": [
       "       Open  High   Low  Close  Adj Close     Volume\n",
       "count   989   989   989    989        989        989\n",
       "mean   2050  2070  2027   2048       1950    2124460\n",
       "std     317   319   312    315        328    6069969\n",
       "min    1315  1355  1315   1348       1243      85187\n",
       "25%    1766  1779  1746   1763       1648    1099574\n",
       "50%    2090  2116  2062   2087       1989    1573884\n",
       "75%    2310  2330  2281   2307       2232    2251405\n",
       "max    2827  2859  2796   2812       2727  185669922"
      ]
     },
     "execution_count": 76,
     "metadata": {},
     "output_type": "execute_result"
    }
   ],
   "source": [
    "#describe function in pandas is used to get the descriptive data from the data. and with that i have used to astype to change the data from the float to the int.\n",
    "HINDUNILVR_df.describe().astype(int)"
   ]
  },
  {
   "cell_type": "code",
   "execution_count": 77,
   "metadata": {},
   "outputs": [],
   "source": [
    "#Downloading Cleaned Data\n",
    "cleaned_hul = HINDUNILVR_df\n",
    "cleaned_hul.to_csv(\"Cleaned HUL.csv\")"
   ]
  },
  {
   "cell_type": "markdown",
   "metadata": {},
   "source": [
    "# Infosys"
   ]
  },
  {
   "cell_type": "code",
   "execution_count": 78,
   "metadata": {},
   "outputs": [
    {
     "data": {
      "text/html": [
       "<div>\n",
       "<style scoped>\n",
       "    .dataframe tbody tr th:only-of-type {\n",
       "        vertical-align: middle;\n",
       "    }\n",
       "\n",
       "    .dataframe tbody tr th {\n",
       "        vertical-align: top;\n",
       "    }\n",
       "\n",
       "    .dataframe thead th {\n",
       "        text-align: right;\n",
       "    }\n",
       "</style>\n",
       "<table border=\"1\" class=\"dataframe\">\n",
       "  <thead>\n",
       "    <tr style=\"text-align: right;\">\n",
       "      <th></th>\n",
       "      <th>Date</th>\n",
       "      <th>Open</th>\n",
       "      <th>High</th>\n",
       "      <th>Low</th>\n",
       "      <th>Close</th>\n",
       "      <th>Adj Close</th>\n",
       "      <th>Volume</th>\n",
       "      <th>Name</th>\n",
       "    </tr>\n",
       "  </thead>\n",
       "  <tbody>\n",
       "    <tr>\n",
       "      <th>0</th>\n",
       "      <td>2018-04-02</td>\n",
       "      <td>570.500000</td>\n",
       "      <td>574.775024</td>\n",
       "      <td>560.650024</td>\n",
       "      <td>568.575012</td>\n",
       "      <td>501.081512</td>\n",
       "      <td>8072702</td>\n",
       "      <td>INFOSYS</td>\n",
       "    </tr>\n",
       "    <tr>\n",
       "      <th>1</th>\n",
       "      <td>2018-04-03</td>\n",
       "      <td>567.349976</td>\n",
       "      <td>571.775024</td>\n",
       "      <td>564.049988</td>\n",
       "      <td>570.224976</td>\n",
       "      <td>502.535675</td>\n",
       "      <td>4077168</td>\n",
       "      <td>INFOSYS</td>\n",
       "    </tr>\n",
       "    <tr>\n",
       "      <th>2</th>\n",
       "      <td>2018-04-04</td>\n",
       "      <td>572.000000</td>\n",
       "      <td>572.275024</td>\n",
       "      <td>560.000000</td>\n",
       "      <td>562.099976</td>\n",
       "      <td>495.375122</td>\n",
       "      <td>4813302</td>\n",
       "      <td>INFOSYS</td>\n",
       "    </tr>\n",
       "    <tr>\n",
       "      <th>3</th>\n",
       "      <td>2018-04-05</td>\n",
       "      <td>569.775024</td>\n",
       "      <td>575.650024</td>\n",
       "      <td>564.549988</td>\n",
       "      <td>573.775024</td>\n",
       "      <td>505.664398</td>\n",
       "      <td>7763544</td>\n",
       "      <td>INFOSYS</td>\n",
       "    </tr>\n",
       "    <tr>\n",
       "      <th>4</th>\n",
       "      <td>2018-04-06</td>\n",
       "      <td>571.500000</td>\n",
       "      <td>573.000000</td>\n",
       "      <td>561.049988</td>\n",
       "      <td>563.500000</td>\n",
       "      <td>496.608948</td>\n",
       "      <td>5937742</td>\n",
       "      <td>INFOSYS</td>\n",
       "    </tr>\n",
       "  </tbody>\n",
       "</table>\n",
       "</div>"
      ],
      "text/plain": [
       "         Date        Open        High         Low       Close   Adj Close  \\\n",
       "0  2018-04-02  570.500000  574.775024  560.650024  568.575012  501.081512   \n",
       "1  2018-04-03  567.349976  571.775024  564.049988  570.224976  502.535675   \n",
       "2  2018-04-04  572.000000  572.275024  560.000000  562.099976  495.375122   \n",
       "3  2018-04-05  569.775024  575.650024  564.549988  573.775024  505.664398   \n",
       "4  2018-04-06  571.500000  573.000000  561.049988  563.500000  496.608948   \n",
       "\n",
       "    Volume     Name  \n",
       "0  8072702  INFOSYS  \n",
       "1  4077168  INFOSYS  \n",
       "2  4813302  INFOSYS  \n",
       "3  7763544  INFOSYS  \n",
       "4  5937742  INFOSYS  "
      ]
     },
     "execution_count": 78,
     "metadata": {},
     "output_type": "execute_result"
    }
   ],
   "source": [
    "INFY_df = pd.read_csv(\"D:\\Study\\Project\\Stocks-Visualizing-and-Analysis\\Datasets\\INFY.NS.csv\")\n",
    "INFY_df[\"Name\"]=\"INFOSYS\"\n",
    "INFY_df.head()"
   ]
  },
  {
   "cell_type": "code",
   "execution_count": 79,
   "metadata": {},
   "outputs": [
    {
     "data": {
      "text/html": [
       "<div>\n",
       "<style scoped>\n",
       "    .dataframe tbody tr th:only-of-type {\n",
       "        vertical-align: middle;\n",
       "    }\n",
       "\n",
       "    .dataframe tbody tr th {\n",
       "        vertical-align: top;\n",
       "    }\n",
       "\n",
       "    .dataframe thead th {\n",
       "        text-align: right;\n",
       "    }\n",
       "</style>\n",
       "<table border=\"1\" class=\"dataframe\">\n",
       "  <thead>\n",
       "    <tr style=\"text-align: right;\">\n",
       "      <th></th>\n",
       "      <th>Date</th>\n",
       "      <th>Open</th>\n",
       "      <th>High</th>\n",
       "      <th>Low</th>\n",
       "      <th>Close</th>\n",
       "      <th>Adj Close</th>\n",
       "      <th>Volume</th>\n",
       "      <th>Name</th>\n",
       "    </tr>\n",
       "  </thead>\n",
       "  <tbody>\n",
       "    <tr>\n",
       "      <th>0</th>\n",
       "      <td>2018-04-02</td>\n",
       "      <td>570.50</td>\n",
       "      <td>574.78</td>\n",
       "      <td>560.65</td>\n",
       "      <td>568.58</td>\n",
       "      <td>501.08</td>\n",
       "      <td>8072702</td>\n",
       "      <td>INFOSYS</td>\n",
       "    </tr>\n",
       "    <tr>\n",
       "      <th>1</th>\n",
       "      <td>2018-04-03</td>\n",
       "      <td>567.35</td>\n",
       "      <td>571.78</td>\n",
       "      <td>564.05</td>\n",
       "      <td>570.22</td>\n",
       "      <td>502.54</td>\n",
       "      <td>4077168</td>\n",
       "      <td>INFOSYS</td>\n",
       "    </tr>\n",
       "  </tbody>\n",
       "</table>\n",
       "</div>"
      ],
      "text/plain": [
       "         Date    Open    High     Low   Close  Adj Close   Volume     Name\n",
       "0  2018-04-02  570.50  574.78  560.65  568.58     501.08  8072702  INFOSYS\n",
       "1  2018-04-03  567.35  571.78  564.05  570.22     502.54  4077168  INFOSYS"
      ]
     },
     "execution_count": 79,
     "metadata": {},
     "output_type": "execute_result"
    }
   ],
   "source": [
    "#as the data is too big. i am rounding of the data aftdr decimals.\n",
    "INFY_df = INFY_df.round(2)\n",
    "INFY_df.head(2)"
   ]
  },
  {
   "cell_type": "code",
   "execution_count": 80,
   "metadata": {},
   "outputs": [
    {
     "data": {
      "text/plain": [
       "Date         0\n",
       "Open         0\n",
       "High         0\n",
       "Low          0\n",
       "Close        0\n",
       "Adj Close    0\n",
       "Volume       0\n",
       "Name         0\n",
       "dtype: int64"
      ]
     },
     "execution_count": 80,
     "metadata": {},
     "output_type": "execute_result"
    }
   ],
   "source": [
    "INFY_df.isnull().sum()"
   ]
  },
  {
   "cell_type": "code",
   "execution_count": 81,
   "metadata": {},
   "outputs": [],
   "source": [
    "INFY_df.dropna(inplace = True, axis = 0)"
   ]
  },
  {
   "cell_type": "code",
   "execution_count": 82,
   "metadata": {},
   "outputs": [
    {
     "data": {
      "text/plain": [
       "(989, 8)"
      ]
     },
     "execution_count": 82,
     "metadata": {},
     "output_type": "execute_result"
    }
   ],
   "source": [
    "#here is checked the size of data\n",
    "INFY_df.shape"
   ]
  },
  {
   "cell_type": "code",
   "execution_count": 83,
   "metadata": {},
   "outputs": [
    {
     "data": {
      "text/plain": [
       "Date         0\n",
       "Open         0\n",
       "High         0\n",
       "Low          0\n",
       "Close        0\n",
       "Adj Close    0\n",
       "Volume       0\n",
       "Name         0\n",
       "dtype: int64"
      ]
     },
     "execution_count": 83,
     "metadata": {},
     "output_type": "execute_result"
    }
   ],
   "source": [
    "#here checking if there is any null values in the dataset\n",
    "INFY_df.isnull().sum()"
   ]
  },
  {
   "cell_type": "markdown",
   "metadata": {},
   "source": [
    "in the output of null values we found that there is not null value in the dataset"
   ]
  },
  {
   "cell_type": "code",
   "execution_count": 84,
   "metadata": {},
   "outputs": [
    {
     "data": {
      "text/plain": [
       "Date          object\n",
       "Open         float64\n",
       "High         float64\n",
       "Low          float64\n",
       "Close        float64\n",
       "Adj Close    float64\n",
       "Volume         int64\n",
       "Name          object\n",
       "dtype: object"
      ]
     },
     "execution_count": 84,
     "metadata": {},
     "output_type": "execute_result"
    }
   ],
   "source": [
    "#lets check the datatypes of each the column\n",
    "INFY_df.dtypes"
   ]
  },
  {
   "cell_type": "code",
   "execution_count": 85,
   "metadata": {},
   "outputs": [
    {
     "data": {
      "text/html": [
       "<div>\n",
       "<style scoped>\n",
       "    .dataframe tbody tr th:only-of-type {\n",
       "        vertical-align: middle;\n",
       "    }\n",
       "\n",
       "    .dataframe tbody tr th {\n",
       "        vertical-align: top;\n",
       "    }\n",
       "\n",
       "    .dataframe thead th {\n",
       "        text-align: right;\n",
       "    }\n",
       "</style>\n",
       "<table border=\"1\" class=\"dataframe\">\n",
       "  <thead>\n",
       "    <tr style=\"text-align: right;\">\n",
       "      <th></th>\n",
       "      <th>Date</th>\n",
       "      <th>Open</th>\n",
       "      <th>High</th>\n",
       "      <th>Low</th>\n",
       "      <th>Close</th>\n",
       "      <th>Adj Close</th>\n",
       "      <th>Volume</th>\n",
       "      <th>Name</th>\n",
       "    </tr>\n",
       "  </thead>\n",
       "  <tbody>\n",
       "    <tr>\n",
       "      <th>0</th>\n",
       "      <td>2018-04-02</td>\n",
       "      <td>570.50</td>\n",
       "      <td>574.78</td>\n",
       "      <td>560.65</td>\n",
       "      <td>568.58</td>\n",
       "      <td>501.08</td>\n",
       "      <td>8072702</td>\n",
       "      <td>INFOSYS</td>\n",
       "    </tr>\n",
       "    <tr>\n",
       "      <th>1</th>\n",
       "      <td>2018-04-03</td>\n",
       "      <td>567.35</td>\n",
       "      <td>571.78</td>\n",
       "      <td>564.05</td>\n",
       "      <td>570.22</td>\n",
       "      <td>502.54</td>\n",
       "      <td>4077168</td>\n",
       "      <td>INFOSYS</td>\n",
       "    </tr>\n",
       "  </tbody>\n",
       "</table>\n",
       "</div>"
      ],
      "text/plain": [
       "        Date    Open    High     Low   Close  Adj Close   Volume     Name\n",
       "0 2018-04-02  570.50  574.78  560.65  568.58     501.08  8072702  INFOSYS\n",
       "1 2018-04-03  567.35  571.78  564.05  570.22     502.54  4077168  INFOSYS"
      ]
     },
     "execution_count": 85,
     "metadata": {},
     "output_type": "execute_result"
    }
   ],
   "source": [
    "#here we can see that data is in object format. pandas has inbuilt functions for data but the data should be in type ‘datetime64(ns)’\n",
    "INFY_df['Date'] = pd.to_datetime(INFY_df['Date'])\n",
    "INFY_df.head(2)"
   ]
  },
  {
   "cell_type": "code",
   "execution_count": 86,
   "metadata": {},
   "outputs": [
    {
     "data": {
      "text/plain": [
       "Date         datetime64[ns]\n",
       "Open                float64\n",
       "High                float64\n",
       "Low                 float64\n",
       "Close               float64\n",
       "Adj Close           float64\n",
       "Volume                int64\n",
       "Name                 object\n",
       "dtype: object"
      ]
     },
     "execution_count": 86,
     "metadata": {},
     "output_type": "execute_result"
    }
   ],
   "source": [
    "INFY_df.dtypes"
   ]
  },
  {
   "cell_type": "markdown",
   "metadata": {},
   "source": [
    "here we can see that the datatype of the data column changed to datetime64[ns]"
   ]
  },
  {
   "cell_type": "code",
   "execution_count": 87,
   "metadata": {},
   "outputs": [
    {
     "data": {
      "text/plain": [
       "Timedelta('1459 days 00:00:00')"
      ]
     },
     "execution_count": 87,
     "metadata": {},
     "output_type": "execute_result"
    }
   ],
   "source": [
    "#here we can check total duration of analysis\n",
    "INFY_df['Date'].max()-INFY_df['Date'].min()"
   ]
  },
  {
   "cell_type": "code",
   "execution_count": 88,
   "metadata": {},
   "outputs": [
    {
     "data": {
      "text/html": [
       "<div>\n",
       "<style scoped>\n",
       "    .dataframe tbody tr th:only-of-type {\n",
       "        vertical-align: middle;\n",
       "    }\n",
       "\n",
       "    .dataframe tbody tr th {\n",
       "        vertical-align: top;\n",
       "    }\n",
       "\n",
       "    .dataframe thead th {\n",
       "        text-align: right;\n",
       "    }\n",
       "</style>\n",
       "<table border=\"1\" class=\"dataframe\">\n",
       "  <thead>\n",
       "    <tr style=\"text-align: right;\">\n",
       "      <th></th>\n",
       "      <th>Open</th>\n",
       "      <th>High</th>\n",
       "      <th>Low</th>\n",
       "      <th>Close</th>\n",
       "      <th>Adj Close</th>\n",
       "      <th>Volume</th>\n",
       "    </tr>\n",
       "  </thead>\n",
       "  <tbody>\n",
       "    <tr>\n",
       "      <th>count</th>\n",
       "      <td>989</td>\n",
       "      <td>989</td>\n",
       "      <td>989</td>\n",
       "      <td>989</td>\n",
       "      <td>989</td>\n",
       "      <td>989</td>\n",
       "    </tr>\n",
       "    <tr>\n",
       "      <th>mean</th>\n",
       "      <td>1021</td>\n",
       "      <td>1033</td>\n",
       "      <td>1011</td>\n",
       "      <td>1022</td>\n",
       "      <td>966</td>\n",
       "      <td>8681175</td>\n",
       "    </tr>\n",
       "    <tr>\n",
       "      <th>std</th>\n",
       "      <td>415</td>\n",
       "      <td>419</td>\n",
       "      <td>412</td>\n",
       "      <td>416</td>\n",
       "      <td>423</td>\n",
       "      <td>6296617</td>\n",
       "    </tr>\n",
       "    <tr>\n",
       "      <th>min</th>\n",
       "      <td>509</td>\n",
       "      <td>558</td>\n",
       "      <td>509</td>\n",
       "      <td>526</td>\n",
       "      <td>489</td>\n",
       "      <td>483407</td>\n",
       "    </tr>\n",
       "    <tr>\n",
       "      <th>25%</th>\n",
       "      <td>706</td>\n",
       "      <td>712</td>\n",
       "      <td>697</td>\n",
       "      <td>705</td>\n",
       "      <td>644</td>\n",
       "      <td>5447130</td>\n",
       "    </tr>\n",
       "    <tr>\n",
       "      <th>50%</th>\n",
       "      <td>781</td>\n",
       "      <td>789</td>\n",
       "      <td>773</td>\n",
       "      <td>781</td>\n",
       "      <td>723</td>\n",
       "      <td>7165335</td>\n",
       "    </tr>\n",
       "    <tr>\n",
       "      <th>75%</th>\n",
       "      <td>1347</td>\n",
       "      <td>1363</td>\n",
       "      <td>1336</td>\n",
       "      <td>1351</td>\n",
       "      <td>1296</td>\n",
       "      <td>9932198</td>\n",
       "    </tr>\n",
       "    <tr>\n",
       "      <th>max</th>\n",
       "      <td>1938</td>\n",
       "      <td>1953</td>\n",
       "      <td>1930</td>\n",
       "      <td>1939</td>\n",
       "      <td>1898</td>\n",
       "      <td>90432109</td>\n",
       "    </tr>\n",
       "  </tbody>\n",
       "</table>\n",
       "</div>"
      ],
      "text/plain": [
       "       Open  High   Low  Close  Adj Close    Volume\n",
       "count   989   989   989    989        989       989\n",
       "mean   1021  1033  1011   1022        966   8681175\n",
       "std     415   419   412    416        423   6296617\n",
       "min     509   558   509    526        489    483407\n",
       "25%     706   712   697    705        644   5447130\n",
       "50%     781   789   773    781        723   7165335\n",
       "75%    1347  1363  1336   1351       1296   9932198\n",
       "max    1938  1953  1930   1939       1898  90432109"
      ]
     },
     "execution_count": 88,
     "metadata": {},
     "output_type": "execute_result"
    }
   ],
   "source": [
    "#describe function in pandas is used to get the descriptive data from the data. and with that i have used to astype to change the data from the float to the int.\n",
    "INFY_df.describe().astype(int)"
   ]
  },
  {
   "cell_type": "code",
   "execution_count": 89,
   "metadata": {},
   "outputs": [],
   "source": [
    "#Downloading Cleaned Data\n",
    "cleaned_infy = INFY_df\n",
    "cleaned_infy.to_csv(\"Cleaned Infosys.csv\")"
   ]
  },
  {
   "cell_type": "markdown",
   "metadata": {},
   "source": [
    "# Reliance"
   ]
  },
  {
   "cell_type": "code",
   "execution_count": 90,
   "metadata": {},
   "outputs": [
    {
     "data": {
      "text/html": [
       "<div>\n",
       "<style scoped>\n",
       "    .dataframe tbody tr th:only-of-type {\n",
       "        vertical-align: middle;\n",
       "    }\n",
       "\n",
       "    .dataframe tbody tr th {\n",
       "        vertical-align: top;\n",
       "    }\n",
       "\n",
       "    .dataframe thead th {\n",
       "        text-align: right;\n",
       "    }\n",
       "</style>\n",
       "<table border=\"1\" class=\"dataframe\">\n",
       "  <thead>\n",
       "    <tr style=\"text-align: right;\">\n",
       "      <th></th>\n",
       "      <th>Date</th>\n",
       "      <th>Open</th>\n",
       "      <th>High</th>\n",
       "      <th>Low</th>\n",
       "      <th>Close</th>\n",
       "      <th>Adj Close</th>\n",
       "      <th>Volume</th>\n",
       "      <th>Name</th>\n",
       "    </tr>\n",
       "  </thead>\n",
       "  <tbody>\n",
       "    <tr>\n",
       "      <th>0</th>\n",
       "      <td>2018-04-02</td>\n",
       "      <td>884.614746</td>\n",
       "      <td>892.490112</td>\n",
       "      <td>878.175781</td>\n",
       "      <td>884.565186</td>\n",
       "      <td>865.632141</td>\n",
       "      <td>5766209</td>\n",
       "      <td>RELIANCE</td>\n",
       "    </tr>\n",
       "    <tr>\n",
       "      <th>1</th>\n",
       "      <td>2018-04-03</td>\n",
       "      <td>882.633545</td>\n",
       "      <td>893.233032</td>\n",
       "      <td>876.937500</td>\n",
       "      <td>891.103210</td>\n",
       "      <td>872.030273</td>\n",
       "      <td>6425059</td>\n",
       "      <td>RELIANCE</td>\n",
       "    </tr>\n",
       "    <tr>\n",
       "      <th>2</th>\n",
       "      <td>2018-04-04</td>\n",
       "      <td>896.204895</td>\n",
       "      <td>903.238220</td>\n",
       "      <td>883.673645</td>\n",
       "      <td>886.496887</td>\n",
       "      <td>867.522522</td>\n",
       "      <td>6560005</td>\n",
       "      <td>RELIANCE</td>\n",
       "    </tr>\n",
       "    <tr>\n",
       "      <th>3</th>\n",
       "      <td>2018-04-05</td>\n",
       "      <td>896.601135</td>\n",
       "      <td>901.455078</td>\n",
       "      <td>895.016113</td>\n",
       "      <td>899.671997</td>\n",
       "      <td>880.415649</td>\n",
       "      <td>3935631</td>\n",
       "      <td>RELIANCE</td>\n",
       "    </tr>\n",
       "    <tr>\n",
       "      <th>4</th>\n",
       "      <td>2018-04-06</td>\n",
       "      <td>899.473877</td>\n",
       "      <td>909.875305</td>\n",
       "      <td>896.502075</td>\n",
       "      <td>902.445740</td>\n",
       "      <td>883.130005</td>\n",
       "      <td>4460344</td>\n",
       "      <td>RELIANCE</td>\n",
       "    </tr>\n",
       "  </tbody>\n",
       "</table>\n",
       "</div>"
      ],
      "text/plain": [
       "         Date        Open        High         Low       Close   Adj Close  \\\n",
       "0  2018-04-02  884.614746  892.490112  878.175781  884.565186  865.632141   \n",
       "1  2018-04-03  882.633545  893.233032  876.937500  891.103210  872.030273   \n",
       "2  2018-04-04  896.204895  903.238220  883.673645  886.496887  867.522522   \n",
       "3  2018-04-05  896.601135  901.455078  895.016113  899.671997  880.415649   \n",
       "4  2018-04-06  899.473877  909.875305  896.502075  902.445740  883.130005   \n",
       "\n",
       "    Volume      Name  \n",
       "0  5766209  RELIANCE  \n",
       "1  6425059  RELIANCE  \n",
       "2  6560005  RELIANCE  \n",
       "3  3935631  RELIANCE  \n",
       "4  4460344  RELIANCE  "
      ]
     },
     "execution_count": 90,
     "metadata": {},
     "output_type": "execute_result"
    }
   ],
   "source": [
    "RELIANCE_df = pd.read_csv(\"D:\\Study\\Project\\Stocks-Visualizing-and-Analysis\\Datasets\\RELIANCE.NS.csv\")\n",
    "RELIANCE_df[\"Name\"]=\"RELIANCE\"\n",
    "RELIANCE_df.head()"
   ]
  },
  {
   "cell_type": "code",
   "execution_count": 91,
   "metadata": {},
   "outputs": [
    {
     "data": {
      "text/html": [
       "<div>\n",
       "<style scoped>\n",
       "    .dataframe tbody tr th:only-of-type {\n",
       "        vertical-align: middle;\n",
       "    }\n",
       "\n",
       "    .dataframe tbody tr th {\n",
       "        vertical-align: top;\n",
       "    }\n",
       "\n",
       "    .dataframe thead th {\n",
       "        text-align: right;\n",
       "    }\n",
       "</style>\n",
       "<table border=\"1\" class=\"dataframe\">\n",
       "  <thead>\n",
       "    <tr style=\"text-align: right;\">\n",
       "      <th></th>\n",
       "      <th>Date</th>\n",
       "      <th>Open</th>\n",
       "      <th>High</th>\n",
       "      <th>Low</th>\n",
       "      <th>Close</th>\n",
       "      <th>Adj Close</th>\n",
       "      <th>Volume</th>\n",
       "      <th>Name</th>\n",
       "    </tr>\n",
       "  </thead>\n",
       "  <tbody>\n",
       "    <tr>\n",
       "      <th>0</th>\n",
       "      <td>2018-04-02</td>\n",
       "      <td>884.61</td>\n",
       "      <td>892.49</td>\n",
       "      <td>878.18</td>\n",
       "      <td>884.57</td>\n",
       "      <td>865.63</td>\n",
       "      <td>5766209</td>\n",
       "      <td>RELIANCE</td>\n",
       "    </tr>\n",
       "    <tr>\n",
       "      <th>1</th>\n",
       "      <td>2018-04-03</td>\n",
       "      <td>882.63</td>\n",
       "      <td>893.23</td>\n",
       "      <td>876.94</td>\n",
       "      <td>891.10</td>\n",
       "      <td>872.03</td>\n",
       "      <td>6425059</td>\n",
       "      <td>RELIANCE</td>\n",
       "    </tr>\n",
       "  </tbody>\n",
       "</table>\n",
       "</div>"
      ],
      "text/plain": [
       "         Date    Open    High     Low   Close  Adj Close   Volume      Name\n",
       "0  2018-04-02  884.61  892.49  878.18  884.57     865.63  5766209  RELIANCE\n",
       "1  2018-04-03  882.63  893.23  876.94  891.10     872.03  6425059  RELIANCE"
      ]
     },
     "execution_count": 91,
     "metadata": {},
     "output_type": "execute_result"
    }
   ],
   "source": [
    "#as the data is too big. i am rounding of the data aftdr decimals.\n",
    "RELIANCE_df = RELIANCE_df.round(2)\n",
    "RELIANCE_df.head(2)"
   ]
  },
  {
   "cell_type": "code",
   "execution_count": 92,
   "metadata": {},
   "outputs": [
    {
     "data": {
      "text/plain": [
       "Date         0\n",
       "Open         0\n",
       "High         0\n",
       "Low          0\n",
       "Close        0\n",
       "Adj Close    0\n",
       "Volume       0\n",
       "Name         0\n",
       "dtype: int64"
      ]
     },
     "execution_count": 92,
     "metadata": {},
     "output_type": "execute_result"
    }
   ],
   "source": [
    "RELIANCE_df.isnull().sum()"
   ]
  },
  {
   "cell_type": "code",
   "execution_count": 93,
   "metadata": {},
   "outputs": [],
   "source": [
    "RELIANCE_df.dropna(inplace = True, axis = 0)"
   ]
  },
  {
   "cell_type": "code",
   "execution_count": 94,
   "metadata": {},
   "outputs": [
    {
     "data": {
      "text/plain": [
       "(989, 8)"
      ]
     },
     "execution_count": 94,
     "metadata": {},
     "output_type": "execute_result"
    }
   ],
   "source": [
    "#here is checked the size of data\n",
    "RELIANCE_df.shape"
   ]
  },
  {
   "cell_type": "code",
   "execution_count": 95,
   "metadata": {},
   "outputs": [
    {
     "data": {
      "text/plain": [
       "Date         0\n",
       "Open         0\n",
       "High         0\n",
       "Low          0\n",
       "Close        0\n",
       "Adj Close    0\n",
       "Volume       0\n",
       "Name         0\n",
       "dtype: int64"
      ]
     },
     "execution_count": 95,
     "metadata": {},
     "output_type": "execute_result"
    }
   ],
   "source": [
    "#here checking if there is any null values in the dataset\n",
    "RELIANCE_df.isnull().sum()"
   ]
  },
  {
   "cell_type": "markdown",
   "metadata": {},
   "source": [
    "in the output of null values we found that there is not null value in the dataset"
   ]
  },
  {
   "cell_type": "code",
   "execution_count": 96,
   "metadata": {},
   "outputs": [
    {
     "data": {
      "text/plain": [
       "Date          object\n",
       "Open         float64\n",
       "High         float64\n",
       "Low          float64\n",
       "Close        float64\n",
       "Adj Close    float64\n",
       "Volume         int64\n",
       "Name          object\n",
       "dtype: object"
      ]
     },
     "execution_count": 96,
     "metadata": {},
     "output_type": "execute_result"
    }
   ],
   "source": [
    "#lets check the datatypes of each the column\n",
    "RELIANCE_df.dtypes"
   ]
  },
  {
   "cell_type": "code",
   "execution_count": 97,
   "metadata": {},
   "outputs": [
    {
     "data": {
      "text/html": [
       "<div>\n",
       "<style scoped>\n",
       "    .dataframe tbody tr th:only-of-type {\n",
       "        vertical-align: middle;\n",
       "    }\n",
       "\n",
       "    .dataframe tbody tr th {\n",
       "        vertical-align: top;\n",
       "    }\n",
       "\n",
       "    .dataframe thead th {\n",
       "        text-align: right;\n",
       "    }\n",
       "</style>\n",
       "<table border=\"1\" class=\"dataframe\">\n",
       "  <thead>\n",
       "    <tr style=\"text-align: right;\">\n",
       "      <th></th>\n",
       "      <th>Date</th>\n",
       "      <th>Open</th>\n",
       "      <th>High</th>\n",
       "      <th>Low</th>\n",
       "      <th>Close</th>\n",
       "      <th>Adj Close</th>\n",
       "      <th>Volume</th>\n",
       "      <th>Name</th>\n",
       "    </tr>\n",
       "  </thead>\n",
       "  <tbody>\n",
       "    <tr>\n",
       "      <th>0</th>\n",
       "      <td>2018-04-02</td>\n",
       "      <td>884.61</td>\n",
       "      <td>892.49</td>\n",
       "      <td>878.18</td>\n",
       "      <td>884.57</td>\n",
       "      <td>865.63</td>\n",
       "      <td>5766209</td>\n",
       "      <td>RELIANCE</td>\n",
       "    </tr>\n",
       "    <tr>\n",
       "      <th>1</th>\n",
       "      <td>2018-04-03</td>\n",
       "      <td>882.63</td>\n",
       "      <td>893.23</td>\n",
       "      <td>876.94</td>\n",
       "      <td>891.10</td>\n",
       "      <td>872.03</td>\n",
       "      <td>6425059</td>\n",
       "      <td>RELIANCE</td>\n",
       "    </tr>\n",
       "  </tbody>\n",
       "</table>\n",
       "</div>"
      ],
      "text/plain": [
       "        Date    Open    High     Low   Close  Adj Close   Volume      Name\n",
       "0 2018-04-02  884.61  892.49  878.18  884.57     865.63  5766209  RELIANCE\n",
       "1 2018-04-03  882.63  893.23  876.94  891.10     872.03  6425059  RELIANCE"
      ]
     },
     "execution_count": 97,
     "metadata": {},
     "output_type": "execute_result"
    }
   ],
   "source": [
    "#here we can see that data is in object format. pandas has inbuilt functions for data but the data should be in type ‘datetime64(ns)’\n",
    "RELIANCE_df['Date'] = pd.to_datetime(RELIANCE_df['Date'])\n",
    "RELIANCE_df.head(2)"
   ]
  },
  {
   "cell_type": "code",
   "execution_count": 98,
   "metadata": {},
   "outputs": [
    {
     "data": {
      "text/plain": [
       "Date         datetime64[ns]\n",
       "Open                float64\n",
       "High                float64\n",
       "Low                 float64\n",
       "Close               float64\n",
       "Adj Close           float64\n",
       "Volume                int64\n",
       "Name                 object\n",
       "dtype: object"
      ]
     },
     "execution_count": 98,
     "metadata": {},
     "output_type": "execute_result"
    }
   ],
   "source": [
    "RELIANCE_df.dtypes"
   ]
  },
  {
   "cell_type": "markdown",
   "metadata": {},
   "source": [
    "here we can see that the datatype of the data column changed to datetime64[ns]"
   ]
  },
  {
   "cell_type": "code",
   "execution_count": 99,
   "metadata": {},
   "outputs": [
    {
     "data": {
      "text/plain": [
       "Timedelta('1459 days 00:00:00')"
      ]
     },
     "execution_count": 99,
     "metadata": {},
     "output_type": "execute_result"
    }
   ],
   "source": [
    "#here we can check total duration of analysis\n",
    "RELIANCE_df['Date'].max()-RELIANCE_df['Date'].min()"
   ]
  },
  {
   "cell_type": "code",
   "execution_count": 100,
   "metadata": {},
   "outputs": [
    {
     "data": {
      "text/html": [
       "<div>\n",
       "<style scoped>\n",
       "    .dataframe tbody tr th:only-of-type {\n",
       "        vertical-align: middle;\n",
       "    }\n",
       "\n",
       "    .dataframe tbody tr th {\n",
       "        vertical-align: top;\n",
       "    }\n",
       "\n",
       "    .dataframe thead th {\n",
       "        text-align: right;\n",
       "    }\n",
       "</style>\n",
       "<table border=\"1\" class=\"dataframe\">\n",
       "  <thead>\n",
       "    <tr style=\"text-align: right;\">\n",
       "      <th></th>\n",
       "      <th>Open</th>\n",
       "      <th>High</th>\n",
       "      <th>Low</th>\n",
       "      <th>Close</th>\n",
       "      <th>Adj Close</th>\n",
       "      <th>Volume</th>\n",
       "    </tr>\n",
       "  </thead>\n",
       "  <tbody>\n",
       "    <tr>\n",
       "      <th>count</th>\n",
       "      <td>989</td>\n",
       "      <td>989</td>\n",
       "      <td>989</td>\n",
       "      <td>989</td>\n",
       "      <td>989</td>\n",
       "      <td>989</td>\n",
       "    </tr>\n",
       "    <tr>\n",
       "      <th>mean</th>\n",
       "      <td>1667</td>\n",
       "      <td>1686</td>\n",
       "      <td>1645</td>\n",
       "      <td>1665</td>\n",
       "      <td>1651</td>\n",
       "      <td>10802851</td>\n",
       "    </tr>\n",
       "    <tr>\n",
       "      <th>std</th>\n",
       "      <td>511</td>\n",
       "      <td>516</td>\n",
       "      <td>506</td>\n",
       "      <td>510</td>\n",
       "      <td>514</td>\n",
       "      <td>7827387</td>\n",
       "    </tr>\n",
       "    <tr>\n",
       "      <th>min</th>\n",
       "      <td>882</td>\n",
       "      <td>892</td>\n",
       "      <td>867</td>\n",
       "      <td>875</td>\n",
       "      <td>865</td>\n",
       "      <td>787160</td>\n",
       "    </tr>\n",
       "    <tr>\n",
       "      <th>25%</th>\n",
       "      <td>1224</td>\n",
       "      <td>1240</td>\n",
       "      <td>1210</td>\n",
       "      <td>1223</td>\n",
       "      <td>1207</td>\n",
       "      <td>6068321</td>\n",
       "    </tr>\n",
       "    <tr>\n",
       "      <th>50%</th>\n",
       "      <td>1526</td>\n",
       "      <td>1535</td>\n",
       "      <td>1507</td>\n",
       "      <td>1520</td>\n",
       "      <td>1505</td>\n",
       "      <td>8558745</td>\n",
       "    </tr>\n",
       "    <tr>\n",
       "      <th>75%</th>\n",
       "      <td>2111</td>\n",
       "      <td>2130</td>\n",
       "      <td>2084</td>\n",
       "      <td>2106</td>\n",
       "      <td>2095</td>\n",
       "      <td>12755947</td>\n",
       "    </tr>\n",
       "    <tr>\n",
       "      <th>max</th>\n",
       "      <td>2742</td>\n",
       "      <td>2751</td>\n",
       "      <td>2708</td>\n",
       "      <td>2731</td>\n",
       "      <td>2723</td>\n",
       "      <td>65848350</td>\n",
       "    </tr>\n",
       "  </tbody>\n",
       "</table>\n",
       "</div>"
      ],
      "text/plain": [
       "       Open  High   Low  Close  Adj Close    Volume\n",
       "count   989   989   989    989        989       989\n",
       "mean   1667  1686  1645   1665       1651  10802851\n",
       "std     511   516   506    510        514   7827387\n",
       "min     882   892   867    875        865    787160\n",
       "25%    1224  1240  1210   1223       1207   6068321\n",
       "50%    1526  1535  1507   1520       1505   8558745\n",
       "75%    2111  2130  2084   2106       2095  12755947\n",
       "max    2742  2751  2708   2731       2723  65848350"
      ]
     },
     "execution_count": 100,
     "metadata": {},
     "output_type": "execute_result"
    }
   ],
   "source": [
    "#describe function in pandas is used to get the descriptive data from the data. and with that i have used to astype to change the data from the float to the int.\n",
    "RELIANCE_df.describe().astype(int)"
   ]
  },
  {
   "cell_type": "code",
   "execution_count": 101,
   "metadata": {},
   "outputs": [],
   "source": [
    "#Downloading Cleaned Data\n",
    "cleaned_ril = RELIANCE_df\n",
    "cleaned_ril.to_csv(\"Cleaned Reliance.csv\")"
   ]
  },
  {
   "cell_type": "markdown",
   "metadata": {},
   "source": [
    "COMBINED ANALYSIS FILE"
   ]
  },
  {
   "cell_type": "code",
   "execution_count": 102,
   "metadata": {},
   "outputs": [],
   "source": [
    "#Combining all the csvs\n",
    "#creating the combined frame called \"frames\" consisting all the frames\n",
    "frames=[INFY_df,HINDUNILVR_df,RELIANCE_df,CIPLA_df]\n",
    "#concatinating the combined \n",
    "data_all=pd.concat(frames)\n",
    "#creating the combined csv of all the data frames\n",
    "data_all.to_csv('CombinedALL.csv')\n"
   ]
  },
  {
   "cell_type": "code",
   "execution_count": 103,
   "metadata": {},
   "outputs": [
    {
     "data": {
      "text/html": [
       "<div>\n",
       "<style scoped>\n",
       "    .dataframe tbody tr th:only-of-type {\n",
       "        vertical-align: middle;\n",
       "    }\n",
       "\n",
       "    .dataframe tbody tr th {\n",
       "        vertical-align: top;\n",
       "    }\n",
       "\n",
       "    .dataframe thead th {\n",
       "        text-align: right;\n",
       "    }\n",
       "</style>\n",
       "<table border=\"1\" class=\"dataframe\">\n",
       "  <thead>\n",
       "    <tr style=\"text-align: right;\">\n",
       "      <th></th>\n",
       "      <th>Date</th>\n",
       "      <th>Open</th>\n",
       "      <th>High</th>\n",
       "      <th>Low</th>\n",
       "      <th>Close</th>\n",
       "      <th>Adj Close</th>\n",
       "      <th>Volume</th>\n",
       "      <th>Name</th>\n",
       "    </tr>\n",
       "  </thead>\n",
       "  <tbody>\n",
       "    <tr>\n",
       "      <th>0</th>\n",
       "      <td>2018-04-02</td>\n",
       "      <td>570.50</td>\n",
       "      <td>574.78</td>\n",
       "      <td>560.65</td>\n",
       "      <td>568.58</td>\n",
       "      <td>501.08</td>\n",
       "      <td>8072702</td>\n",
       "      <td>INFOSYS</td>\n",
       "    </tr>\n",
       "    <tr>\n",
       "      <th>1</th>\n",
       "      <td>2018-04-03</td>\n",
       "      <td>567.35</td>\n",
       "      <td>571.78</td>\n",
       "      <td>564.05</td>\n",
       "      <td>570.22</td>\n",
       "      <td>502.54</td>\n",
       "      <td>4077168</td>\n",
       "      <td>INFOSYS</td>\n",
       "    </tr>\n",
       "    <tr>\n",
       "      <th>2</th>\n",
       "      <td>2018-04-04</td>\n",
       "      <td>572.00</td>\n",
       "      <td>572.28</td>\n",
       "      <td>560.00</td>\n",
       "      <td>562.10</td>\n",
       "      <td>495.38</td>\n",
       "      <td>4813302</td>\n",
       "      <td>INFOSYS</td>\n",
       "    </tr>\n",
       "    <tr>\n",
       "      <th>3</th>\n",
       "      <td>2018-04-05</td>\n",
       "      <td>569.78</td>\n",
       "      <td>575.65</td>\n",
       "      <td>564.55</td>\n",
       "      <td>573.78</td>\n",
       "      <td>505.66</td>\n",
       "      <td>7763544</td>\n",
       "      <td>INFOSYS</td>\n",
       "    </tr>\n",
       "    <tr>\n",
       "      <th>4</th>\n",
       "      <td>2018-04-06</td>\n",
       "      <td>571.50</td>\n",
       "      <td>573.00</td>\n",
       "      <td>561.05</td>\n",
       "      <td>563.50</td>\n",
       "      <td>496.61</td>\n",
       "      <td>5937742</td>\n",
       "      <td>INFOSYS</td>\n",
       "    </tr>\n",
       "    <tr>\n",
       "      <th>...</th>\n",
       "      <td>...</td>\n",
       "      <td>...</td>\n",
       "      <td>...</td>\n",
       "      <td>...</td>\n",
       "      <td>...</td>\n",
       "      <td>...</td>\n",
       "      <td>...</td>\n",
       "      <td>...</td>\n",
       "    </tr>\n",
       "    <tr>\n",
       "      <th>984</th>\n",
       "      <td>2022-03-25</td>\n",
       "      <td>1033.30</td>\n",
       "      <td>1033.30</td>\n",
       "      <td>1006.00</td>\n",
       "      <td>1013.50</td>\n",
       "      <td>1008.60</td>\n",
       "      <td>1680031</td>\n",
       "      <td>CIPLA</td>\n",
       "    </tr>\n",
       "    <tr>\n",
       "      <th>985</th>\n",
       "      <td>2022-03-28</td>\n",
       "      <td>1022.00</td>\n",
       "      <td>1044.25</td>\n",
       "      <td>1008.90</td>\n",
       "      <td>1017.10</td>\n",
       "      <td>1012.18</td>\n",
       "      <td>3847112</td>\n",
       "      <td>CIPLA</td>\n",
       "    </tr>\n",
       "    <tr>\n",
       "      <th>986</th>\n",
       "      <td>2022-03-29</td>\n",
       "      <td>1020.20</td>\n",
       "      <td>1041.00</td>\n",
       "      <td>1020.20</td>\n",
       "      <td>1038.85</td>\n",
       "      <td>1033.83</td>\n",
       "      <td>3194089</td>\n",
       "      <td>CIPLA</td>\n",
       "    </tr>\n",
       "    <tr>\n",
       "      <th>987</th>\n",
       "      <td>2022-03-30</td>\n",
       "      <td>1043.00</td>\n",
       "      <td>1054.80</td>\n",
       "      <td>1025.20</td>\n",
       "      <td>1028.95</td>\n",
       "      <td>1023.98</td>\n",
       "      <td>3083750</td>\n",
       "      <td>CIPLA</td>\n",
       "    </tr>\n",
       "    <tr>\n",
       "      <th>988</th>\n",
       "      <td>2022-03-31</td>\n",
       "      <td>1030.00</td>\n",
       "      <td>1035.00</td>\n",
       "      <td>1013.60</td>\n",
       "      <td>1018.05</td>\n",
       "      <td>1013.13</td>\n",
       "      <td>1976418</td>\n",
       "      <td>CIPLA</td>\n",
       "    </tr>\n",
       "  </tbody>\n",
       "</table>\n",
       "<p>3956 rows × 8 columns</p>\n",
       "</div>"
      ],
      "text/plain": [
       "          Date     Open     High      Low    Close  Adj Close   Volume  \\\n",
       "0   2018-04-02   570.50   574.78   560.65   568.58     501.08  8072702   \n",
       "1   2018-04-03   567.35   571.78   564.05   570.22     502.54  4077168   \n",
       "2   2018-04-04   572.00   572.28   560.00   562.10     495.38  4813302   \n",
       "3   2018-04-05   569.78   575.65   564.55   573.78     505.66  7763544   \n",
       "4   2018-04-06   571.50   573.00   561.05   563.50     496.61  5937742   \n",
       "..         ...      ...      ...      ...      ...        ...      ...   \n",
       "984 2022-03-25  1033.30  1033.30  1006.00  1013.50    1008.60  1680031   \n",
       "985 2022-03-28  1022.00  1044.25  1008.90  1017.10    1012.18  3847112   \n",
       "986 2022-03-29  1020.20  1041.00  1020.20  1038.85    1033.83  3194089   \n",
       "987 2022-03-30  1043.00  1054.80  1025.20  1028.95    1023.98  3083750   \n",
       "988 2022-03-31  1030.00  1035.00  1013.60  1018.05    1013.13  1976418   \n",
       "\n",
       "        Name  \n",
       "0    INFOSYS  \n",
       "1    INFOSYS  \n",
       "2    INFOSYS  \n",
       "3    INFOSYS  \n",
       "4    INFOSYS  \n",
       "..       ...  \n",
       "984    CIPLA  \n",
       "985    CIPLA  \n",
       "986    CIPLA  \n",
       "987    CIPLA  \n",
       "988    CIPLA  \n",
       "\n",
       "[3956 rows x 8 columns]"
      ]
     },
     "execution_count": 103,
     "metadata": {},
     "output_type": "execute_result"
    }
   ],
   "source": [
    "data_all"
   ]
  }
 ],
 "metadata": {
  "kernelspec": {
   "display_name": "Python 3.10.1 64-bit",
   "language": "python",
   "name": "python3"
  },
  "language_info": {
   "codemirror_mode": {
    "name": "ipython",
    "version": 3
   },
   "file_extension": ".py",
   "mimetype": "text/x-python",
   "name": "python",
   "nbconvert_exporter": "python",
   "pygments_lexer": "ipython3",
   "version": "3.10.1"
  },
  "orig_nbformat": 4,
  "vscode": {
   "interpreter": {
    "hash": "53875ad8cbc45f636b1581a3c0c567d0e426d357c999676f9933d75e989836be"
   }
  }
 },
 "nbformat": 4,
 "nbformat_minor": 2
}
