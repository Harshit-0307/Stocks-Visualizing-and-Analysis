{
 "cells": [
  {
   "cell_type": "code",
   "execution_count": 23,
   "metadata": {},
   "outputs": [],
   "source": [
    "import numpy as np\n",
    "import pandas as pd\n",
    "import matplotlib.pyplot as plt\n",
    "import seaborn\n",
    "import datetime\n",
    "import warnings\n",
    "warnings.filterwarnings('ignore')\n",
    "import plotly.express as px"
   ]
  },
  {
   "cell_type": "markdown",
   "metadata": {},
   "source": [
    "Just checking the data of one stock as of now"
   ]
  },
  {
   "cell_type": "code",
   "execution_count": 24,
   "metadata": {},
   "outputs": [
    {
     "data": {
      "text/html": [
       "<div>\n",
       "<style scoped>\n",
       "    .dataframe tbody tr th:only-of-type {\n",
       "        vertical-align: middle;\n",
       "    }\n",
       "\n",
       "    .dataframe tbody tr th {\n",
       "        vertical-align: top;\n",
       "    }\n",
       "\n",
       "    .dataframe thead th {\n",
       "        text-align: right;\n",
       "    }\n",
       "</style>\n",
       "<table border=\"1\" class=\"dataframe\">\n",
       "  <thead>\n",
       "    <tr style=\"text-align: right;\">\n",
       "      <th></th>\n",
       "      <th>Date</th>\n",
       "      <th>Open</th>\n",
       "      <th>High</th>\n",
       "      <th>Low</th>\n",
       "      <th>Close</th>\n",
       "      <th>Adj Close</th>\n",
       "      <th>Volume</th>\n",
       "    </tr>\n",
       "  </thead>\n",
       "  <tbody>\n",
       "    <tr>\n",
       "      <th>0</th>\n",
       "      <td>2018-04-02</td>\n",
       "      <td>1315.000000</td>\n",
       "      <td>1360.550049</td>\n",
       "      <td>1315.000000</td>\n",
       "      <td>1351.300049</td>\n",
       "      <td>1246.386230</td>\n",
       "      <td>708747</td>\n",
       "    </tr>\n",
       "    <tr>\n",
       "      <th>1</th>\n",
       "      <td>2018-04-03</td>\n",
       "      <td>1347.099976</td>\n",
       "      <td>1355.500000</td>\n",
       "      <td>1338.650024</td>\n",
       "      <td>1348.400024</td>\n",
       "      <td>1243.711426</td>\n",
       "      <td>979726</td>\n",
       "    </tr>\n",
       "    <tr>\n",
       "      <th>2</th>\n",
       "      <td>2018-04-04</td>\n",
       "      <td>1348.000000</td>\n",
       "      <td>1360.000000</td>\n",
       "      <td>1339.550049</td>\n",
       "      <td>1357.449951</td>\n",
       "      <td>1252.058594</td>\n",
       "      <td>912607</td>\n",
       "    </tr>\n",
       "    <tr>\n",
       "      <th>3</th>\n",
       "      <td>2018-04-05</td>\n",
       "      <td>1380.000000</td>\n",
       "      <td>1383.800049</td>\n",
       "      <td>1362.699951</td>\n",
       "      <td>1382.199951</td>\n",
       "      <td>1274.887085</td>\n",
       "      <td>588716</td>\n",
       "    </tr>\n",
       "    <tr>\n",
       "      <th>4</th>\n",
       "      <td>2018-04-06</td>\n",
       "      <td>1381.949951</td>\n",
       "      <td>1381.949951</td>\n",
       "      <td>1362.449951</td>\n",
       "      <td>1374.800049</td>\n",
       "      <td>1268.061768</td>\n",
       "      <td>633937</td>\n",
       "    </tr>\n",
       "  </tbody>\n",
       "</table>\n",
       "</div>"
      ],
      "text/plain": [
       "         Date         Open         High          Low        Close  \\\n",
       "0  2018-04-02  1315.000000  1360.550049  1315.000000  1351.300049   \n",
       "1  2018-04-03  1347.099976  1355.500000  1338.650024  1348.400024   \n",
       "2  2018-04-04  1348.000000  1360.000000  1339.550049  1357.449951   \n",
       "3  2018-04-05  1380.000000  1383.800049  1362.699951  1382.199951   \n",
       "4  2018-04-06  1381.949951  1381.949951  1362.449951  1374.800049   \n",
       "\n",
       "     Adj Close  Volume  \n",
       "0  1246.386230  708747  \n",
       "1  1243.711426  979726  \n",
       "2  1252.058594  912607  \n",
       "3  1274.887085  588716  \n",
       "4  1268.061768  633937  "
      ]
     },
     "execution_count": 24,
     "metadata": {},
     "output_type": "execute_result"
    }
   ],
   "source": [
    "HINDUNILVR_df = pd.read_csv(\"D:\\Study\\Project\\Stocks-Visualizing-and-Analysis\\Datasets\\HINDUNILVR.NS.csv\")\n",
    "HINDUNILVR_df.head()"
   ]
  },
  {
   "cell_type": "code",
   "execution_count": 25,
   "metadata": {},
   "outputs": [
    {
     "data": {
      "text/html": [
       "<div>\n",
       "<style scoped>\n",
       "    .dataframe tbody tr th:only-of-type {\n",
       "        vertical-align: middle;\n",
       "    }\n",
       "\n",
       "    .dataframe tbody tr th {\n",
       "        vertical-align: top;\n",
       "    }\n",
       "\n",
       "    .dataframe thead th {\n",
       "        text-align: right;\n",
       "    }\n",
       "</style>\n",
       "<table border=\"1\" class=\"dataframe\">\n",
       "  <thead>\n",
       "    <tr style=\"text-align: right;\">\n",
       "      <th></th>\n",
       "      <th>Date</th>\n",
       "      <th>Open</th>\n",
       "      <th>High</th>\n",
       "      <th>Low</th>\n",
       "      <th>Close</th>\n",
       "      <th>Adj Close</th>\n",
       "      <th>Volume</th>\n",
       "    </tr>\n",
       "  </thead>\n",
       "  <tbody>\n",
       "    <tr>\n",
       "      <th>0</th>\n",
       "      <td>2018-04-02</td>\n",
       "      <td>1315.0</td>\n",
       "      <td>1360.55</td>\n",
       "      <td>1315.00</td>\n",
       "      <td>1351.3</td>\n",
       "      <td>1246.39</td>\n",
       "      <td>708747</td>\n",
       "    </tr>\n",
       "    <tr>\n",
       "      <th>1</th>\n",
       "      <td>2018-04-03</td>\n",
       "      <td>1347.1</td>\n",
       "      <td>1355.50</td>\n",
       "      <td>1338.65</td>\n",
       "      <td>1348.4</td>\n",
       "      <td>1243.71</td>\n",
       "      <td>979726</td>\n",
       "    </tr>\n",
       "  </tbody>\n",
       "</table>\n",
       "</div>"
      ],
      "text/plain": [
       "         Date    Open     High      Low   Close  Adj Close  Volume\n",
       "0  2018-04-02  1315.0  1360.55  1315.00  1351.3    1246.39  708747\n",
       "1  2018-04-03  1347.1  1355.50  1338.65  1348.4    1243.71  979726"
      ]
     },
     "execution_count": 25,
     "metadata": {},
     "output_type": "execute_result"
    }
   ],
   "source": [
    "#as the data is too big. i am rounding of the data aftdr decimals.\n",
    "HINDUNILVR_df = HINDUNILVR_df.round(2)\n",
    "HINDUNILVR_df.head(2)"
   ]
  },
  {
   "cell_type": "code",
   "execution_count": 26,
   "metadata": {},
   "outputs": [
    {
     "data": {
      "text/plain": [
       "Date         0\n",
       "Open         0\n",
       "High         0\n",
       "Low          0\n",
       "Close        0\n",
       "Adj Close    0\n",
       "Volume       0\n",
       "dtype: int64"
      ]
     },
     "execution_count": 26,
     "metadata": {},
     "output_type": "execute_result"
    }
   ],
   "source": [
    "HINDUNILVR_df.isnull().sum()"
   ]
  },
  {
   "cell_type": "code",
   "execution_count": 27,
   "metadata": {},
   "outputs": [],
   "source": [
    "HINDUNILVR_df.dropna(inplace = True, axis = 0)"
   ]
  },
  {
   "cell_type": "code",
   "execution_count": 28,
   "metadata": {},
   "outputs": [
    {
     "data": {
      "text/plain": [
       "(989, 7)"
      ]
     },
     "execution_count": 28,
     "metadata": {},
     "output_type": "execute_result"
    }
   ],
   "source": [
    "#here is checked the size of data\n",
    "HINDUNILVR_df.shape"
   ]
  },
  {
   "cell_type": "code",
   "execution_count": 29,
   "metadata": {},
   "outputs": [
    {
     "data": {
      "text/plain": [
       "Date         0\n",
       "Open         0\n",
       "High         0\n",
       "Low          0\n",
       "Close        0\n",
       "Adj Close    0\n",
       "Volume       0\n",
       "dtype: int64"
      ]
     },
     "execution_count": 29,
     "metadata": {},
     "output_type": "execute_result"
    }
   ],
   "source": [
    "#here checking if there is any null values in the dataset\n",
    "HINDUNILVR_df.isnull().sum()"
   ]
  },
  {
   "cell_type": "markdown",
   "metadata": {},
   "source": [
    "in the output of null values we found that there is not null value in the dataset"
   ]
  },
  {
   "cell_type": "code",
   "execution_count": 30,
   "metadata": {},
   "outputs": [
    {
     "data": {
      "text/plain": [
       "Date          object\n",
       "Open         float64\n",
       "High         float64\n",
       "Low          float64\n",
       "Close        float64\n",
       "Adj Close    float64\n",
       "Volume         int64\n",
       "dtype: object"
      ]
     },
     "execution_count": 30,
     "metadata": {},
     "output_type": "execute_result"
    }
   ],
   "source": [
    "#lets check the datatypes of each the column\n",
    "HINDUNILVR_df.dtypes"
   ]
  },
  {
   "cell_type": "code",
   "execution_count": 31,
   "metadata": {},
   "outputs": [
    {
     "data": {
      "text/html": [
       "<div>\n",
       "<style scoped>\n",
       "    .dataframe tbody tr th:only-of-type {\n",
       "        vertical-align: middle;\n",
       "    }\n",
       "\n",
       "    .dataframe tbody tr th {\n",
       "        vertical-align: top;\n",
       "    }\n",
       "\n",
       "    .dataframe thead th {\n",
       "        text-align: right;\n",
       "    }\n",
       "</style>\n",
       "<table border=\"1\" class=\"dataframe\">\n",
       "  <thead>\n",
       "    <tr style=\"text-align: right;\">\n",
       "      <th></th>\n",
       "      <th>Date</th>\n",
       "      <th>Open</th>\n",
       "      <th>High</th>\n",
       "      <th>Low</th>\n",
       "      <th>Close</th>\n",
       "      <th>Adj Close</th>\n",
       "      <th>Volume</th>\n",
       "    </tr>\n",
       "  </thead>\n",
       "  <tbody>\n",
       "    <tr>\n",
       "      <th>0</th>\n",
       "      <td>2018-04-02</td>\n",
       "      <td>1315.0</td>\n",
       "      <td>1360.55</td>\n",
       "      <td>1315.00</td>\n",
       "      <td>1351.3</td>\n",
       "      <td>1246.39</td>\n",
       "      <td>708747</td>\n",
       "    </tr>\n",
       "    <tr>\n",
       "      <th>1</th>\n",
       "      <td>2018-04-03</td>\n",
       "      <td>1347.1</td>\n",
       "      <td>1355.50</td>\n",
       "      <td>1338.65</td>\n",
       "      <td>1348.4</td>\n",
       "      <td>1243.71</td>\n",
       "      <td>979726</td>\n",
       "    </tr>\n",
       "  </tbody>\n",
       "</table>\n",
       "</div>"
      ],
      "text/plain": [
       "        Date    Open     High      Low   Close  Adj Close  Volume\n",
       "0 2018-04-02  1315.0  1360.55  1315.00  1351.3    1246.39  708747\n",
       "1 2018-04-03  1347.1  1355.50  1338.65  1348.4    1243.71  979726"
      ]
     },
     "execution_count": 31,
     "metadata": {},
     "output_type": "execute_result"
    }
   ],
   "source": [
    "#here we can see that data is in object format. pandas has inbuilt functions for data but the data should be in type ‘datetime64(ns)’\n",
    "HINDUNILVR_df['Date'] = pd.to_datetime(HINDUNILVR_df['Date'])\n",
    "HINDUNILVR_df.head(2)"
   ]
  },
  {
   "cell_type": "code",
   "execution_count": 32,
   "metadata": {},
   "outputs": [
    {
     "data": {
      "text/plain": [
       "Date         datetime64[ns]\n",
       "Open                float64\n",
       "High                float64\n",
       "Low                 float64\n",
       "Close               float64\n",
       "Adj Close           float64\n",
       "Volume                int64\n",
       "dtype: object"
      ]
     },
     "execution_count": 32,
     "metadata": {},
     "output_type": "execute_result"
    }
   ],
   "source": [
    "HINDUNILVR_df.dtypes"
   ]
  },
  {
   "cell_type": "markdown",
   "metadata": {},
   "source": [
    "here we can see that the datatype of the data column changed to datetime64[ns]"
   ]
  },
  {
   "cell_type": "code",
   "execution_count": 33,
   "metadata": {},
   "outputs": [
    {
     "data": {
      "text/plain": [
       "Timedelta('1459 days 00:00:00')"
      ]
     },
     "execution_count": 33,
     "metadata": {},
     "output_type": "execute_result"
    }
   ],
   "source": [
    "#here we can check total duration of analysis\n",
    "HINDUNILVR_df['Date'].max()-HINDUNILVR_df['Date'].min()"
   ]
  },
  {
   "cell_type": "code",
   "execution_count": 34,
   "metadata": {},
   "outputs": [
    {
     "data": {
      "text/html": [
       "<div>\n",
       "<style scoped>\n",
       "    .dataframe tbody tr th:only-of-type {\n",
       "        vertical-align: middle;\n",
       "    }\n",
       "\n",
       "    .dataframe tbody tr th {\n",
       "        vertical-align: top;\n",
       "    }\n",
       "\n",
       "    .dataframe thead th {\n",
       "        text-align: right;\n",
       "    }\n",
       "</style>\n",
       "<table border=\"1\" class=\"dataframe\">\n",
       "  <thead>\n",
       "    <tr style=\"text-align: right;\">\n",
       "      <th></th>\n",
       "      <th>Open</th>\n",
       "      <th>High</th>\n",
       "      <th>Low</th>\n",
       "      <th>Close</th>\n",
       "      <th>Adj Close</th>\n",
       "      <th>Volume</th>\n",
       "    </tr>\n",
       "  </thead>\n",
       "  <tbody>\n",
       "    <tr>\n",
       "      <th>count</th>\n",
       "      <td>90</td>\n",
       "      <td>90</td>\n",
       "      <td>90</td>\n",
       "      <td>90</td>\n",
       "      <td>90</td>\n",
       "      <td>90</td>\n",
       "    </tr>\n",
       "    <tr>\n",
       "      <th>mean</th>\n",
       "      <td>2254</td>\n",
       "      <td>2270</td>\n",
       "      <td>2226</td>\n",
       "      <td>2248</td>\n",
       "      <td>2194</td>\n",
       "      <td>1824827</td>\n",
       "    </tr>\n",
       "    <tr>\n",
       "      <th>std</th>\n",
       "      <td>134</td>\n",
       "      <td>132</td>\n",
       "      <td>136</td>\n",
       "      <td>134</td>\n",
       "      <td>131</td>\n",
       "      <td>1046350</td>\n",
       "    </tr>\n",
       "    <tr>\n",
       "      <th>min</th>\n",
       "      <td>1924</td>\n",
       "      <td>1958</td>\n",
       "      <td>1901</td>\n",
       "      <td>1943</td>\n",
       "      <td>1897</td>\n",
       "      <td>584302</td>\n",
       "    </tr>\n",
       "    <tr>\n",
       "      <th>25%</th>\n",
       "      <td>2196</td>\n",
       "      <td>2206</td>\n",
       "      <td>2160</td>\n",
       "      <td>2171</td>\n",
       "      <td>2119</td>\n",
       "      <td>1090277</td>\n",
       "    </tr>\n",
       "    <tr>\n",
       "      <th>50%</th>\n",
       "      <td>2299</td>\n",
       "      <td>2317</td>\n",
       "      <td>2275</td>\n",
       "      <td>2297</td>\n",
       "      <td>2242</td>\n",
       "      <td>1588857</td>\n",
       "    </tr>\n",
       "    <tr>\n",
       "      <th>75%</th>\n",
       "      <td>2340</td>\n",
       "      <td>2355</td>\n",
       "      <td>2316</td>\n",
       "      <td>2331</td>\n",
       "      <td>2275</td>\n",
       "      <td>2233011</td>\n",
       "    </tr>\n",
       "    <tr>\n",
       "      <th>max</th>\n",
       "      <td>2425</td>\n",
       "      <td>2425</td>\n",
       "      <td>2403</td>\n",
       "      <td>2416</td>\n",
       "      <td>2357</td>\n",
       "      <td>6320118</td>\n",
       "    </tr>\n",
       "  </tbody>\n",
       "</table>\n",
       "</div>"
      ],
      "text/plain": [
       "       Open  High   Low  Close  Adj Close   Volume\n",
       "count    90    90    90     90         90       90\n",
       "mean   2254  2270  2226   2248       2194  1824827\n",
       "std     134   132   136    134        131  1046350\n",
       "min    1924  1958  1901   1943       1897   584302\n",
       "25%    2196  2206  2160   2171       2119  1090277\n",
       "50%    2299  2317  2275   2297       2242  1588857\n",
       "75%    2340  2355  2316   2331       2275  2233011\n",
       "max    2425  2425  2403   2416       2357  6320118"
      ]
     },
     "execution_count": 34,
     "metadata": {},
     "output_type": "execute_result"
    }
   ],
   "source": [
    "#describe function in pandas is used to get the descriptive data from the data. and with that i have used to astype to change the data from the float to the int.\n",
    "HINDUNILVR_df.iloc[-90:].describe().astype(int)"
   ]
  },
  {
   "cell_type": "markdown",
   "metadata": {},
   "source": [
    "# General Variation in the Stock Price"
   ]
  },
  {
   "cell_type": "code",
   "execution_count": 35,
   "metadata": {},
   "outputs": [],
   "source": [
    "#to set the date column to index in dataframe to make the plotting easy\n",
    "HINDUNILVR_df.index = HINDUNILVR_df['Date']"
   ]
  },
  {
   "cell_type": "code",
   "execution_count": 36,
   "metadata": {},
   "outputs": [
    {
     "data": {
      "image/png": "[encoded data removed]",
      "text/plain": [
       "<Figure size 1080x576 with 1 Axes>"
      ]
     },
     "metadata": {
      "needs_background": "light"
     },
     "output_type": "display_data"
    }
   ],
   "source": [
    "HINDUNILVR_df['Adj Close'].plot(figsize = (15,8))\n",
    "plt.show()"
   ]
  },
  {
   "cell_type": "markdown",
   "metadata": {},
   "source": [
    "# Day to Day percentage change "
   ]
  },
  {
   "cell_type": "markdown",
   "metadata": {},
   "source": [
    "What does daily percentage means?\n",
    "\n",
    "So if the stock opening prie is 100rs and the stock closes as 150rs. So the percentage change here is 50%"
   ]
  },
  {
   "cell_type": "code",
   "execution_count": 37,
   "metadata": {},
   "outputs": [
    {
     "data": {
      "text/html": [
       "<div>\n",
       "<style scoped>\n",
       "    .dataframe tbody tr th:only-of-type {\n",
       "        vertical-align: middle;\n",
       "    }\n",
       "\n",
       "    .dataframe tbody tr th {\n",
       "        vertical-align: top;\n",
       "    }\n",
       "\n",
       "    .dataframe thead th {\n",
       "        text-align: right;\n",
       "    }\n",
       "</style>\n",
       "<table border=\"1\" class=\"dataframe\">\n",
       "  <thead>\n",
       "    <tr style=\"text-align: right;\">\n",
       "      <th></th>\n",
       "      <th>Date</th>\n",
       "      <th>Open</th>\n",
       "      <th>High</th>\n",
       "      <th>Low</th>\n",
       "      <th>Close</th>\n",
       "      <th>Adj Close</th>\n",
       "      <th>Volume</th>\n",
       "      <th>Day_Perc_Change</th>\n",
       "    </tr>\n",
       "    <tr>\n",
       "      <th>Date</th>\n",
       "      <th></th>\n",
       "      <th></th>\n",
       "      <th></th>\n",
       "      <th></th>\n",
       "      <th></th>\n",
       "      <th></th>\n",
       "      <th></th>\n",
       "      <th></th>\n",
       "    </tr>\n",
       "  </thead>\n",
       "  <tbody>\n",
       "    <tr>\n",
       "      <th>2018-04-02</th>\n",
       "      <td>2018-04-02</td>\n",
       "      <td>1315.00</td>\n",
       "      <td>1360.55</td>\n",
       "      <td>1315.00</td>\n",
       "      <td>1351.30</td>\n",
       "      <td>1246.39</td>\n",
       "      <td>708747</td>\n",
       "      <td>NaN</td>\n",
       "    </tr>\n",
       "    <tr>\n",
       "      <th>2018-04-03</th>\n",
       "      <td>2018-04-03</td>\n",
       "      <td>1347.10</td>\n",
       "      <td>1355.50</td>\n",
       "      <td>1338.65</td>\n",
       "      <td>1348.40</td>\n",
       "      <td>1243.71</td>\n",
       "      <td>979726</td>\n",
       "      <td>-0.215021</td>\n",
       "    </tr>\n",
       "    <tr>\n",
       "      <th>2018-04-04</th>\n",
       "      <td>2018-04-04</td>\n",
       "      <td>1348.00</td>\n",
       "      <td>1360.00</td>\n",
       "      <td>1339.55</td>\n",
       "      <td>1357.45</td>\n",
       "      <td>1252.06</td>\n",
       "      <td>912607</td>\n",
       "      <td>0.671378</td>\n",
       "    </tr>\n",
       "    <tr>\n",
       "      <th>2018-04-05</th>\n",
       "      <td>2018-04-05</td>\n",
       "      <td>1380.00</td>\n",
       "      <td>1383.80</td>\n",
       "      <td>1362.70</td>\n",
       "      <td>1382.20</td>\n",
       "      <td>1274.89</td>\n",
       "      <td>588716</td>\n",
       "      <td>1.823395</td>\n",
       "    </tr>\n",
       "    <tr>\n",
       "      <th>2018-04-06</th>\n",
       "      <td>2018-04-06</td>\n",
       "      <td>1381.95</td>\n",
       "      <td>1381.95</td>\n",
       "      <td>1362.45</td>\n",
       "      <td>1374.80</td>\n",
       "      <td>1268.06</td>\n",
       "      <td>633937</td>\n",
       "      <td>-0.535732</td>\n",
       "    </tr>\n",
       "  </tbody>\n",
       "</table>\n",
       "</div>"
      ],
      "text/plain": [
       "                 Date     Open     High      Low    Close  Adj Close  Volume  \\\n",
       "Date                                                                           \n",
       "2018-04-02 2018-04-02  1315.00  1360.55  1315.00  1351.30    1246.39  708747   \n",
       "2018-04-03 2018-04-03  1347.10  1355.50  1338.65  1348.40    1243.71  979726   \n",
       "2018-04-04 2018-04-04  1348.00  1360.00  1339.55  1357.45    1252.06  912607   \n",
       "2018-04-05 2018-04-05  1380.00  1383.80  1362.70  1382.20    1274.89  588716   \n",
       "2018-04-06 2018-04-06  1381.95  1381.95  1362.45  1374.80    1268.06  633937   \n",
       "\n",
       "            Day_Perc_Change  \n",
       "Date                         \n",
       "2018-04-02              NaN  \n",
       "2018-04-03        -0.215021  \n",
       "2018-04-04         0.671378  \n",
       "2018-04-05         1.823395  \n",
       "2018-04-06        -0.535732  "
      ]
     },
     "execution_count": 37,
     "metadata": {},
     "output_type": "execute_result"
    }
   ],
   "source": [
    "HINDUNILVR_df['Day_Perc_Change'] = HINDUNILVR_df['Adj Close'].pct_change()*100\n",
    "HINDUNILVR_df.head()"
   ]
  },
  {
   "cell_type": "code",
   "execution_count": 38,
   "metadata": {},
   "outputs": [],
   "source": [
    "HINDUNILVR_df.dropna(axis = 0, inplace = True)"
   ]
  },
  {
   "cell_type": "code",
   "execution_count": 39,
   "metadata": {},
   "outputs": [
    {
     "data": {
      "text/plain": [
       "<AxesSubplot: xlabel='Date'>"
      ]
     },
     "execution_count": 39,
     "metadata": {},
     "output_type": "execute_result"
    },
    {
     "data": {
      "image/png": "[encoded data removed]",
      "text/plain": [
       "<Figure size 864x432 with 1 Axes>"
      ]
     },
     "metadata": {
      "needs_background": "light"
     },
     "output_type": "display_data"
    }
   ],
   "source": [
    "HINDUNILVR_df['Day_Perc_Change'].plot(figsize = (12, 6), fontsize = 12)"
   ]
  },
  {
   "cell_type": "markdown",
   "metadata": {},
   "source": [
    "I observed here that the mostly the spike is between the -2% and 2% and there are some few spikes between 10 to -10 percent on both the sides."
   ]
  },
  {
   "cell_type": "code",
   "execution_count": 40,
   "metadata": {},
   "outputs": [
    {
     "data": {
      "image/png": "[encoded data removed]",
      "text/plain": [
       "<Figure size 720x360 with 1 Axes>"
      ]
     },
     "metadata": {
      "needs_background": "light"
     },
     "output_type": "display_data"
    },
    {
     "data": {
      "text/plain": [
       "count    988.000000\n",
       "mean       0.060211\n",
       "std        1.583588\n",
       "min       -8.871113\n",
       "25%       -0.792225\n",
       "50%       -0.003042\n",
       "75%        0.811314\n",
       "max       13.500069\n",
       "Name: Day_Perc_Change, dtype: float64"
      ]
     },
     "execution_count": 40,
     "metadata": {},
     "output_type": "execute_result"
    }
   ],
   "source": [
    "HINDUNILVR_df['Day_Perc_Change'].hist(bins = 50, figsize = (10,5)) \n",
    "plt.xlabel('Daily returns')\n",
    "plt.ylabel('Frequency')\n",
    "plt.show()#satistics\n",
    "HINDUNILVR_df.Day_Perc_Change.describe()"
   ]
  },
  {
   "cell_type": "markdown",
   "metadata": {},
   "source": [
    "# Trend Analysis"
   ]
  },
  {
   "cell_type": "markdown",
   "metadata": {},
   "source": [
    "Here we will make a function to define the trend. Will do it with the if  else statements."
   ]
  },
  {
   "cell_type": "code",
   "execution_count": 41,
   "metadata": {},
   "outputs": [
    {
     "data": {
      "text/html": [
       "<div>\n",
       "<style scoped>\n",
       "    .dataframe tbody tr th:only-of-type {\n",
       "        vertical-align: middle;\n",
       "    }\n",
       "\n",
       "    .dataframe tbody tr th {\n",
       "        vertical-align: top;\n",
       "    }\n",
       "\n",
       "    .dataframe thead th {\n",
       "        text-align: right;\n",
       "    }\n",
       "</style>\n",
       "<table border=\"1\" class=\"dataframe\">\n",
       "  <thead>\n",
       "    <tr style=\"text-align: right;\">\n",
       "      <th></th>\n",
       "      <th>Date</th>\n",
       "      <th>Open</th>\n",
       "      <th>High</th>\n",
       "      <th>Low</th>\n",
       "      <th>Close</th>\n",
       "      <th>Adj Close</th>\n",
       "      <th>Volume</th>\n",
       "      <th>Day_Perc_Change</th>\n",
       "      <th>Trend</th>\n",
       "    </tr>\n",
       "    <tr>\n",
       "      <th>Date</th>\n",
       "      <th></th>\n",
       "      <th></th>\n",
       "      <th></th>\n",
       "      <th></th>\n",
       "      <th></th>\n",
       "      <th></th>\n",
       "      <th></th>\n",
       "      <th></th>\n",
       "      <th></th>\n",
       "    </tr>\n",
       "  </thead>\n",
       "  <tbody>\n",
       "    <tr>\n",
       "      <th>2018-04-03</th>\n",
       "      <td>2018-04-03</td>\n",
       "      <td>1347.10</td>\n",
       "      <td>1355.50</td>\n",
       "      <td>1338.65</td>\n",
       "      <td>1348.40</td>\n",
       "      <td>1243.71</td>\n",
       "      <td>979726</td>\n",
       "      <td>-0.215021</td>\n",
       "      <td>Slight or No change</td>\n",
       "    </tr>\n",
       "    <tr>\n",
       "      <th>2018-04-04</th>\n",
       "      <td>2018-04-04</td>\n",
       "      <td>1348.00</td>\n",
       "      <td>1360.00</td>\n",
       "      <td>1339.55</td>\n",
       "      <td>1357.45</td>\n",
       "      <td>1252.06</td>\n",
       "      <td>912607</td>\n",
       "      <td>0.671378</td>\n",
       "      <td>Slight Positive</td>\n",
       "    </tr>\n",
       "    <tr>\n",
       "      <th>2018-04-05</th>\n",
       "      <td>2018-04-05</td>\n",
       "      <td>1380.00</td>\n",
       "      <td>1383.80</td>\n",
       "      <td>1362.70</td>\n",
       "      <td>1382.20</td>\n",
       "      <td>1274.89</td>\n",
       "      <td>588716</td>\n",
       "      <td>1.823395</td>\n",
       "      <td>Positive</td>\n",
       "    </tr>\n",
       "    <tr>\n",
       "      <th>2018-04-06</th>\n",
       "      <td>2018-04-06</td>\n",
       "      <td>1381.95</td>\n",
       "      <td>1381.95</td>\n",
       "      <td>1362.45</td>\n",
       "      <td>1374.80</td>\n",
       "      <td>1268.06</td>\n",
       "      <td>633937</td>\n",
       "      <td>-0.535732</td>\n",
       "      <td>Slight Negative</td>\n",
       "    </tr>\n",
       "    <tr>\n",
       "      <th>2018-04-09</th>\n",
       "      <td>2018-04-09</td>\n",
       "      <td>1367.95</td>\n",
       "      <td>1396.40</td>\n",
       "      <td>1367.50</td>\n",
       "      <td>1391.60</td>\n",
       "      <td>1283.56</td>\n",
       "      <td>923543</td>\n",
       "      <td>1.222340</td>\n",
       "      <td>Positive</td>\n",
       "    </tr>\n",
       "  </tbody>\n",
       "</table>\n",
       "</div>"
      ],
      "text/plain": [
       "                 Date     Open     High      Low    Close  Adj Close  Volume  \\\n",
       "Date                                                                           \n",
       "2018-04-03 2018-04-03  1347.10  1355.50  1338.65  1348.40    1243.71  979726   \n",
       "2018-04-04 2018-04-04  1348.00  1360.00  1339.55  1357.45    1252.06  912607   \n",
       "2018-04-05 2018-04-05  1380.00  1383.80  1362.70  1382.20    1274.89  588716   \n",
       "2018-04-06 2018-04-06  1381.95  1381.95  1362.45  1374.80    1268.06  633937   \n",
       "2018-04-09 2018-04-09  1367.95  1396.40  1367.50  1391.60    1283.56  923543   \n",
       "\n",
       "            Day_Perc_Change                Trend  \n",
       "Date                                              \n",
       "2018-04-03        -0.215021  Slight or No change  \n",
       "2018-04-04         0.671378      Slight Positive  \n",
       "2018-04-05         1.823395             Positive  \n",
       "2018-04-06        -0.535732      Slight Negative  \n",
       "2018-04-09         1.222340             Positive  "
      ]
     },
     "execution_count": 41,
     "metadata": {},
     "output_type": "execute_result"
    }
   ],
   "source": [
    "def trend(x):\n",
    "    if x > -0.5 and x <= 0.5:\n",
    "        return 'Slight or No change'\n",
    "    elif x > 0.5 and x <= 1:\n",
    "        return 'Slight Positive'\n",
    "    elif x > -1 and x <= -0.5:\n",
    "        return 'Slight Negative'\n",
    "    elif x > 1 and x <= 3:\n",
    "        return 'Positive'\n",
    "    elif x > -3 and x <= -1:\n",
    "        return 'Negative'\n",
    "    elif x > 3 and x <= 7:\n",
    "        return 'Among top gainers'\n",
    "    elif x > -7 and x <= -3:\n",
    "        return 'Among top losers'\n",
    "    elif x > 7:\n",
    "        return 'Bull run'\n",
    "    elif x <= -7:\n",
    "        return 'Bear drop'\n",
    "HINDUNILVR_df['Trend']= np.zeros(HINDUNILVR_df['Day_Perc_Change'].count())\n",
    "HINDUNILVR_df['Trend']= HINDUNILVR_df['Day_Perc_Change'].apply(lambda x:trend(x))\n",
    "HINDUNILVR_df.head()"
   ]
  },
  {
   "cell_type": "code",
   "execution_count": 43,
   "metadata": {},
   "outputs": [
    {
     "data": {
      "image/png": "[encoded data removed]",
      "text/plain": [
       "<Figure size 432x288 with 1 Axes>"
      ]
     },
     "metadata": {},
     "output_type": "display_data"
    }
   ],
   "source": [
    "HUL_pie_data = HINDUNILVR_df.groupby('Trend')\n",
    "pie_label = sorted([i for i in HINDUNILVR_df.loc[:, 'Trend'].unique()])\n",
    "plt.pie(HUL_pie_data['Trend'].count(), labels = pie_label, autopct = '%1.1f%%', radius = 2)\n",
    "\n",
    "plt.show()"
   ]
  },
  {
   "cell_type": "markdown",
   "metadata": {},
   "source": [
    "# Daily Returns and Volumes"
   ]
  },
  {
   "cell_type": "code",
   "execution_count": 49,
   "metadata": {},
   "outputs": [
    {
     "data": {
      "text/plain": [
       "<AxesSubplot: xlabel='Date'>"
      ]
     },
     "execution_count": 49,
     "metadata": {},
     "output_type": "execute_result"
    },
    {
     "data": {
      "image/png": "[encoded data removed]",
      "text/plain": [
       "<Figure size 1080x576 with 1 Axes>"
      ]
     },
     "metadata": {
      "needs_background": "light"
     },
     "output_type": "display_data"
    }
   ],
   "source": [
    "plt.stem(HINDUNILVR_df['Date'], HINDUNILVR_df['Day_Perc_Change'])\n",
    "(HINDUNILVR_df['Volume']/1000000).plot(figsize = (15, 8), color = 'green', alpha = 0.5)"
   ]
  }
 ],
 "metadata": {
  "kernelspec": {
   "display_name": "Python 3.10.1 64-bit",
   "language": "python",
   "name": "python3"
  },
  "language_info": {
   "codemirror_mode": {
    "name": "ipython",
    "version": 3
   },
   "file_extension": ".py",
   "mimetype": "text/x-python",
   "name": "python",
   "nbconvert_exporter": "python",
   "pygments_lexer": "ipython3",
   "version": "3.10.1"
  },
  "orig_nbformat": 4,
  "vscode": {
   "interpreter": {
    "hash": "53875ad8cbc45f636b1581a3c0c567d0e426d357c999676f9933d75e989836be"
   }
  }
 },
 "nbformat": 4,
 "nbformat_minor": 2
}
