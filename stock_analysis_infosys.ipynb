{
 "cells": [
  {
   "cell_type": "code",
   "execution_count": 1,
   "metadata": {},
   "outputs": [],
   "source": [
    "import numpy as np\n",
    "import pandas as pd\n",
    "import matplotlib.pyplot as plt\n",
    "import seaborn\n",
    "import datetime\n",
    "import warnings\n",
    "warnings.filterwarnings('ignore')\n",
    "import plotly.express as px"
   ]
  },
  {
   "cell_type": "markdown",
   "metadata": {},
   "source": [
    "Just checking the data of one stock as of now"
   ]
  },
  {
   "cell_type": "code",
   "execution_count": 2,
   "metadata": {},
   "outputs": [
    {
     "data": {
      "text/html": [
       "<div>\n",
       "<style scoped>\n",
       "    .dataframe tbody tr th:only-of-type {\n",
       "        vertical-align: middle;\n",
       "    }\n",
       "\n",
       "    .dataframe tbody tr th {\n",
       "        vertical-align: top;\n",
       "    }\n",
       "\n",
       "    .dataframe thead th {\n",
       "        text-align: right;\n",
       "    }\n",
       "</style>\n",
       "<table border=\"1\" class=\"dataframe\">\n",
       "  <thead>\n",
       "    <tr style=\"text-align: right;\">\n",
       "      <th></th>\n",
       "      <th>Date</th>\n",
       "      <th>Open</th>\n",
       "      <th>High</th>\n",
       "      <th>Low</th>\n",
       "      <th>Close</th>\n",
       "      <th>Adj Close</th>\n",
       "      <th>Volume</th>\n",
       "    </tr>\n",
       "  </thead>\n",
       "  <tbody>\n",
       "    <tr>\n",
       "      <th>0</th>\n",
       "      <td>2018-04-02</td>\n",
       "      <td>570.500000</td>\n",
       "      <td>574.775024</td>\n",
       "      <td>560.650024</td>\n",
       "      <td>568.575012</td>\n",
       "      <td>501.081512</td>\n",
       "      <td>8072702</td>\n",
       "    </tr>\n",
       "    <tr>\n",
       "      <th>1</th>\n",
       "      <td>2018-04-03</td>\n",
       "      <td>567.349976</td>\n",
       "      <td>571.775024</td>\n",
       "      <td>564.049988</td>\n",
       "      <td>570.224976</td>\n",
       "      <td>502.535675</td>\n",
       "      <td>4077168</td>\n",
       "    </tr>\n",
       "    <tr>\n",
       "      <th>2</th>\n",
       "      <td>2018-04-04</td>\n",
       "      <td>572.000000</td>\n",
       "      <td>572.275024</td>\n",
       "      <td>560.000000</td>\n",
       "      <td>562.099976</td>\n",
       "      <td>495.375122</td>\n",
       "      <td>4813302</td>\n",
       "    </tr>\n",
       "    <tr>\n",
       "      <th>3</th>\n",
       "      <td>2018-04-05</td>\n",
       "      <td>569.775024</td>\n",
       "      <td>575.650024</td>\n",
       "      <td>564.549988</td>\n",
       "      <td>573.775024</td>\n",
       "      <td>505.664398</td>\n",
       "      <td>7763544</td>\n",
       "    </tr>\n",
       "    <tr>\n",
       "      <th>4</th>\n",
       "      <td>2018-04-06</td>\n",
       "      <td>571.500000</td>\n",
       "      <td>573.000000</td>\n",
       "      <td>561.049988</td>\n",
       "      <td>563.500000</td>\n",
       "      <td>496.608948</td>\n",
       "      <td>5937742</td>\n",
       "    </tr>\n",
       "  </tbody>\n",
       "</table>\n",
       "</div>"
      ],
      "text/plain": [
       "         Date        Open        High         Low       Close   Adj Close  \\\n",
       "0  2018-04-02  570.500000  574.775024  560.650024  568.575012  501.081512   \n",
       "1  2018-04-03  567.349976  571.775024  564.049988  570.224976  502.535675   \n",
       "2  2018-04-04  572.000000  572.275024  560.000000  562.099976  495.375122   \n",
       "3  2018-04-05  569.775024  575.650024  564.549988  573.775024  505.664398   \n",
       "4  2018-04-06  571.500000  573.000000  561.049988  563.500000  496.608948   \n",
       "\n",
       "    Volume  \n",
       "0  8072702  \n",
       "1  4077168  \n",
       "2  4813302  \n",
       "3  7763544  \n",
       "4  5937742  "
      ]
     },
     "execution_count": 2,
     "metadata": {},
     "output_type": "execute_result"
    }
   ],
   "source": [
    "INFY_df = pd.read_csv(\"D:\\Study\\Project\\Stocks-Visualizing-and-Analysis\\Datasets\\INFY.NS.csv\")\n",
    "INFY_df.head()"
   ]
  },
  {
   "cell_type": "code",
   "execution_count": 3,
   "metadata": {},
   "outputs": [
    {
     "data": {
      "text/html": [
       "<div>\n",
       "<style scoped>\n",
       "    .dataframe tbody tr th:only-of-type {\n",
       "        vertical-align: middle;\n",
       "    }\n",
       "\n",
       "    .dataframe tbody tr th {\n",
       "        vertical-align: top;\n",
       "    }\n",
       "\n",
       "    .dataframe thead th {\n",
       "        text-align: right;\n",
       "    }\n",
       "</style>\n",
       "<table border=\"1\" class=\"dataframe\">\n",
       "  <thead>\n",
       "    <tr style=\"text-align: right;\">\n",
       "      <th></th>\n",
       "      <th>Date</th>\n",
       "      <th>Open</th>\n",
       "      <th>High</th>\n",
       "      <th>Low</th>\n",
       "      <th>Close</th>\n",
       "      <th>Adj Close</th>\n",
       "      <th>Volume</th>\n",
       "    </tr>\n",
       "  </thead>\n",
       "  <tbody>\n",
       "    <tr>\n",
       "      <th>0</th>\n",
       "      <td>2018-04-02</td>\n",
       "      <td>570.50</td>\n",
       "      <td>574.78</td>\n",
       "      <td>560.65</td>\n",
       "      <td>568.58</td>\n",
       "      <td>501.08</td>\n",
       "      <td>8072702</td>\n",
       "    </tr>\n",
       "    <tr>\n",
       "      <th>1</th>\n",
       "      <td>2018-04-03</td>\n",
       "      <td>567.35</td>\n",
       "      <td>571.78</td>\n",
       "      <td>564.05</td>\n",
       "      <td>570.22</td>\n",
       "      <td>502.54</td>\n",
       "      <td>4077168</td>\n",
       "    </tr>\n",
       "  </tbody>\n",
       "</table>\n",
       "</div>"
      ],
      "text/plain": [
       "         Date    Open    High     Low   Close  Adj Close   Volume\n",
       "0  2018-04-02  570.50  574.78  560.65  568.58     501.08  8072702\n",
       "1  2018-04-03  567.35  571.78  564.05  570.22     502.54  4077168"
      ]
     },
     "execution_count": 3,
     "metadata": {},
     "output_type": "execute_result"
    }
   ],
   "source": [
    "#as the data is too big. i am rounding of the data aftdr decimals.\n",
    "INFY_df = INFY_df.round(2)\n",
    "INFY_df.head(2)"
   ]
  },
  {
   "cell_type": "code",
   "execution_count": 4,
   "metadata": {},
   "outputs": [
    {
     "data": {
      "text/plain": [
       "(989, 7)"
      ]
     },
     "execution_count": 4,
     "metadata": {},
     "output_type": "execute_result"
    }
   ],
   "source": [
    "#here is checked the size of data\n",
    "INFY_df.shape"
   ]
  },
  {
   "cell_type": "code",
   "execution_count": 5,
   "metadata": {},
   "outputs": [
    {
     "data": {
      "text/plain": [
       "Date         0\n",
       "Open         0\n",
       "High         0\n",
       "Low          0\n",
       "Close        0\n",
       "Adj Close    0\n",
       "Volume       0\n",
       "dtype: int64"
      ]
     },
     "execution_count": 5,
     "metadata": {},
     "output_type": "execute_result"
    }
   ],
   "source": [
    "#here checking if there is any null values in the dataset\n",
    "INFY_df.isnull().sum()"
   ]
  },
  {
   "cell_type": "markdown",
   "metadata": {},
   "source": [
    "in the output of null values we found that there is not null value in the dataset"
   ]
  },
  {
   "cell_type": "code",
   "execution_count": 6,
   "metadata": {},
   "outputs": [
    {
     "data": {
      "text/plain": [
       "Date          object\n",
       "Open         float64\n",
       "High         float64\n",
       "Low          float64\n",
       "Close        float64\n",
       "Adj Close    float64\n",
       "Volume         int64\n",
       "dtype: object"
      ]
     },
     "execution_count": 6,
     "metadata": {},
     "output_type": "execute_result"
    }
   ],
   "source": [
    "#lets check the datatypes of each the column\n",
    "INFY_df.dtypes"
   ]
  },
  {
   "cell_type": "code",
   "execution_count": 7,
   "metadata": {},
   "outputs": [
    {
     "data": {
      "text/html": [
       "<div>\n",
       "<style scoped>\n",
       "    .dataframe tbody tr th:only-of-type {\n",
       "        vertical-align: middle;\n",
       "    }\n",
       "\n",
       "    .dataframe tbody tr th {\n",
       "        vertical-align: top;\n",
       "    }\n",
       "\n",
       "    .dataframe thead th {\n",
       "        text-align: right;\n",
       "    }\n",
       "</style>\n",
       "<table border=\"1\" class=\"dataframe\">\n",
       "  <thead>\n",
       "    <tr style=\"text-align: right;\">\n",
       "      <th></th>\n",
       "      <th>Date</th>\n",
       "      <th>Open</th>\n",
       "      <th>High</th>\n",
       "      <th>Low</th>\n",
       "      <th>Close</th>\n",
       "      <th>Adj Close</th>\n",
       "      <th>Volume</th>\n",
       "    </tr>\n",
       "  </thead>\n",
       "  <tbody>\n",
       "    <tr>\n",
       "      <th>0</th>\n",
       "      <td>2018-04-02</td>\n",
       "      <td>570.50</td>\n",
       "      <td>574.78</td>\n",
       "      <td>560.65</td>\n",
       "      <td>568.58</td>\n",
       "      <td>501.08</td>\n",
       "      <td>8072702</td>\n",
       "    </tr>\n",
       "    <tr>\n",
       "      <th>1</th>\n",
       "      <td>2018-04-03</td>\n",
       "      <td>567.35</td>\n",
       "      <td>571.78</td>\n",
       "      <td>564.05</td>\n",
       "      <td>570.22</td>\n",
       "      <td>502.54</td>\n",
       "      <td>4077168</td>\n",
       "    </tr>\n",
       "  </tbody>\n",
       "</table>\n",
       "</div>"
      ],
      "text/plain": [
       "        Date    Open    High     Low   Close  Adj Close   Volume\n",
       "0 2018-04-02  570.50  574.78  560.65  568.58     501.08  8072702\n",
       "1 2018-04-03  567.35  571.78  564.05  570.22     502.54  4077168"
      ]
     },
     "execution_count": 7,
     "metadata": {},
     "output_type": "execute_result"
    }
   ],
   "source": [
    "#here we can see that data is in object format. pandas has inbuilt functions for data but the data should be in type ‘datetime64(ns)’\n",
    "INFY_df['Date'] = pd.to_datetime(INFY_df['Date'])\n",
    "INFY_df.head(2)"
   ]
  },
  {
   "cell_type": "code",
   "execution_count": 8,
   "metadata": {},
   "outputs": [
    {
     "data": {
      "text/plain": [
       "Date         datetime64[ns]\n",
       "Open                float64\n",
       "High                float64\n",
       "Low                 float64\n",
       "Close               float64\n",
       "Adj Close           float64\n",
       "Volume                int64\n",
       "dtype: object"
      ]
     },
     "execution_count": 8,
     "metadata": {},
     "output_type": "execute_result"
    }
   ],
   "source": [
    "INFY_df.dtypes"
   ]
  },
  {
   "cell_type": "markdown",
   "metadata": {},
   "source": [
    "here we can see that the datatype of the data column changed to datetime64[ns]"
   ]
  },
  {
   "cell_type": "code",
   "execution_count": 9,
   "metadata": {},
   "outputs": [
    {
     "data": {
      "text/plain": [
       "Timedelta('1459 days 00:00:00')"
      ]
     },
     "execution_count": 9,
     "metadata": {},
     "output_type": "execute_result"
    }
   ],
   "source": [
    "#here we can check total duration of analysis\n",
    "INFY_df['Date'].max()-INFY_df['Date'].min()"
   ]
  },
  {
   "cell_type": "code",
   "execution_count": 10,
   "metadata": {},
   "outputs": [
    {
     "data": {
      "text/html": [
       "<div>\n",
       "<style scoped>\n",
       "    .dataframe tbody tr th:only-of-type {\n",
       "        vertical-align: middle;\n",
       "    }\n",
       "\n",
       "    .dataframe tbody tr th {\n",
       "        vertical-align: top;\n",
       "    }\n",
       "\n",
       "    .dataframe thead th {\n",
       "        text-align: right;\n",
       "    }\n",
       "</style>\n",
       "<table border=\"1\" class=\"dataframe\">\n",
       "  <thead>\n",
       "    <tr style=\"text-align: right;\">\n",
       "      <th></th>\n",
       "      <th>Open</th>\n",
       "      <th>High</th>\n",
       "      <th>Low</th>\n",
       "      <th>Close</th>\n",
       "      <th>Adj Close</th>\n",
       "      <th>Volume</th>\n",
       "    </tr>\n",
       "  </thead>\n",
       "  <tbody>\n",
       "    <tr>\n",
       "      <th>count</th>\n",
       "      <td>90</td>\n",
       "      <td>90</td>\n",
       "      <td>90</td>\n",
       "      <td>90</td>\n",
       "      <td>90</td>\n",
       "      <td>90</td>\n",
       "    </tr>\n",
       "    <tr>\n",
       "      <th>mean</th>\n",
       "      <td>1790</td>\n",
       "      <td>1809</td>\n",
       "      <td>1772</td>\n",
       "      <td>1791</td>\n",
       "      <td>1753</td>\n",
       "      <td>6421467</td>\n",
       "    </tr>\n",
       "    <tr>\n",
       "      <th>std</th>\n",
       "      <td>76</td>\n",
       "      <td>73</td>\n",
       "      <td>75</td>\n",
       "      <td>75</td>\n",
       "      <td>73</td>\n",
       "      <td>3314026</td>\n",
       "    </tr>\n",
       "    <tr>\n",
       "      <th>min</th>\n",
       "      <td>1681</td>\n",
       "      <td>1709</td>\n",
       "      <td>1665</td>\n",
       "      <td>1678</td>\n",
       "      <td>1642</td>\n",
       "      <td>1823469</td>\n",
       "    </tr>\n",
       "    <tr>\n",
       "      <th>25%</th>\n",
       "      <td>1718</td>\n",
       "      <td>1743</td>\n",
       "      <td>1704</td>\n",
       "      <td>1726</td>\n",
       "      <td>1689</td>\n",
       "      <td>4167851</td>\n",
       "    </tr>\n",
       "    <tr>\n",
       "      <th>50%</th>\n",
       "      <td>1769</td>\n",
       "      <td>1783</td>\n",
       "      <td>1747</td>\n",
       "      <td>1771</td>\n",
       "      <td>1734</td>\n",
       "      <td>5358059</td>\n",
       "    </tr>\n",
       "    <tr>\n",
       "      <th>75%</th>\n",
       "      <td>1864</td>\n",
       "      <td>1888</td>\n",
       "      <td>1844</td>\n",
       "      <td>1865</td>\n",
       "      <td>1825</td>\n",
       "      <td>7654222</td>\n",
       "    </tr>\n",
       "    <tr>\n",
       "      <th>max</th>\n",
       "      <td>1938</td>\n",
       "      <td>1953</td>\n",
       "      <td>1930</td>\n",
       "      <td>1939</td>\n",
       "      <td>1898</td>\n",
       "      <td>18887243</td>\n",
       "    </tr>\n",
       "  </tbody>\n",
       "</table>\n",
       "</div>"
      ],
      "text/plain": [
       "       Open  High   Low  Close  Adj Close    Volume\n",
       "count    90    90    90     90         90        90\n",
       "mean   1790  1809  1772   1791       1753   6421467\n",
       "std      76    73    75     75         73   3314026\n",
       "min    1681  1709  1665   1678       1642   1823469\n",
       "25%    1718  1743  1704   1726       1689   4167851\n",
       "50%    1769  1783  1747   1771       1734   5358059\n",
       "75%    1864  1888  1844   1865       1825   7654222\n",
       "max    1938  1953  1930   1939       1898  18887243"
      ]
     },
     "execution_count": 10,
     "metadata": {},
     "output_type": "execute_result"
    }
   ],
   "source": [
    "#describe function in pandas is used to get the descriptive data from the data. and with that i have used to astype to change the data from the float to the int.\n",
    "INFY_df.iloc[-90:].describe().astype(int)"
   ]
  },
  {
   "cell_type": "code",
   "execution_count": 11,
   "metadata": {},
   "outputs": [],
   "source": [
    "#to set the date column to index in dataframe to make the plotting easy\n",
    "INFY_df.index = INFY_df['Date']"
   ]
  },
  {
   "cell_type": "code",
   "execution_count": 12,
   "metadata": {},
   "outputs": [
    {
     "data": {
      "image/png": "[encoded data removed]",
      "text/plain": [
       "<Figure size 1080x576 with 1 Axes>"
      ]
     },
     "metadata": {
      "needs_background": "light"
     },
     "output_type": "display_data"
    }
   ],
   "source": [
    "INFY_df['Adj Close'].plot(figsize = (15,8))\n",
    "plt.show()"
   ]
  },
  {
   "cell_type": "code",
   "execution_count": 13,
   "metadata": {},
   "outputs": [],
   "source": [
    "from dash import Dash, dcc, html , Output"
   ]
  },
  {
   "cell_type": "markdown",
   "metadata": {},
   "source": [
    "Day to Day percentage change "
   ]
  },
  {
   "cell_type": "markdown",
   "metadata": {},
   "source": [
    "What does daily percentage means?\n",
    "\n",
    "So if the stock opening prie is 100rs and the stock closes as 150rs. So the percentage change here is 50%"
   ]
  },
  {
   "cell_type": "code",
   "execution_count": 14,
   "metadata": {},
   "outputs": [
    {
     "data": {
      "text/html": [
       "<div>\n",
       "<style scoped>\n",
       "    .dataframe tbody tr th:only-of-type {\n",
       "        vertical-align: middle;\n",
       "    }\n",
       "\n",
       "    .dataframe tbody tr th {\n",
       "        vertical-align: top;\n",
       "    }\n",
       "\n",
       "    .dataframe thead th {\n",
       "        text-align: right;\n",
       "    }\n",
       "</style>\n",
       "<table border=\"1\" class=\"dataframe\">\n",
       "  <thead>\n",
       "    <tr style=\"text-align: right;\">\n",
       "      <th></th>\n",
       "      <th>Date</th>\n",
       "      <th>Open</th>\n",
       "      <th>High</th>\n",
       "      <th>Low</th>\n",
       "      <th>Close</th>\n",
       "      <th>Adj Close</th>\n",
       "      <th>Volume</th>\n",
       "      <th>Day_Perc_Change</th>\n",
       "    </tr>\n",
       "    <tr>\n",
       "      <th>Date</th>\n",
       "      <th></th>\n",
       "      <th></th>\n",
       "      <th></th>\n",
       "      <th></th>\n",
       "      <th></th>\n",
       "      <th></th>\n",
       "      <th></th>\n",
       "      <th></th>\n",
       "    </tr>\n",
       "  </thead>\n",
       "  <tbody>\n",
       "    <tr>\n",
       "      <th>2018-04-02</th>\n",
       "      <td>2018-04-02</td>\n",
       "      <td>570.50</td>\n",
       "      <td>574.78</td>\n",
       "      <td>560.65</td>\n",
       "      <td>568.58</td>\n",
       "      <td>501.08</td>\n",
       "      <td>8072702</td>\n",
       "      <td>NaN</td>\n",
       "    </tr>\n",
       "    <tr>\n",
       "      <th>2018-04-03</th>\n",
       "      <td>2018-04-03</td>\n",
       "      <td>567.35</td>\n",
       "      <td>571.78</td>\n",
       "      <td>564.05</td>\n",
       "      <td>570.22</td>\n",
       "      <td>502.54</td>\n",
       "      <td>4077168</td>\n",
       "      <td>0.291371</td>\n",
       "    </tr>\n",
       "    <tr>\n",
       "      <th>2018-04-04</th>\n",
       "      <td>2018-04-04</td>\n",
       "      <td>572.00</td>\n",
       "      <td>572.28</td>\n",
       "      <td>560.00</td>\n",
       "      <td>562.10</td>\n",
       "      <td>495.38</td>\n",
       "      <td>4813302</td>\n",
       "      <td>-1.424762</td>\n",
       "    </tr>\n",
       "    <tr>\n",
       "      <th>2018-04-05</th>\n",
       "      <td>2018-04-05</td>\n",
       "      <td>569.78</td>\n",
       "      <td>575.65</td>\n",
       "      <td>564.55</td>\n",
       "      <td>573.78</td>\n",
       "      <td>505.66</td>\n",
       "      <td>7763544</td>\n",
       "      <td>2.075175</td>\n",
       "    </tr>\n",
       "    <tr>\n",
       "      <th>2018-04-06</th>\n",
       "      <td>2018-04-06</td>\n",
       "      <td>571.50</td>\n",
       "      <td>573.00</td>\n",
       "      <td>561.05</td>\n",
       "      <td>563.50</td>\n",
       "      <td>496.61</td>\n",
       "      <td>5937742</td>\n",
       "      <td>-1.789740</td>\n",
       "    </tr>\n",
       "  </tbody>\n",
       "</table>\n",
       "</div>"
      ],
      "text/plain": [
       "                 Date    Open    High     Low   Close  Adj Close   Volume  \\\n",
       "Date                                                                        \n",
       "2018-04-02 2018-04-02  570.50  574.78  560.65  568.58     501.08  8072702   \n",
       "2018-04-03 2018-04-03  567.35  571.78  564.05  570.22     502.54  4077168   \n",
       "2018-04-04 2018-04-04  572.00  572.28  560.00  562.10     495.38  4813302   \n",
       "2018-04-05 2018-04-05  569.78  575.65  564.55  573.78     505.66  7763544   \n",
       "2018-04-06 2018-04-06  571.50  573.00  561.05  563.50     496.61  5937742   \n",
       "\n",
       "            Day_Perc_Change  \n",
       "Date                         \n",
       "2018-04-02              NaN  \n",
       "2018-04-03         0.291371  \n",
       "2018-04-04        -1.424762  \n",
       "2018-04-05         2.075175  \n",
       "2018-04-06        -1.789740  "
      ]
     },
     "execution_count": 14,
     "metadata": {},
     "output_type": "execute_result"
    }
   ],
   "source": [
    "INFY_df['Day_Perc_Change'] = INFY_df['Adj Close'].pct_change()*100\n",
    "INFY_df.head()"
   ]
  },
  {
   "cell_type": "code",
   "execution_count": 15,
   "metadata": {},
   "outputs": [],
   "source": [
    "INFY_df.dropna(axis = 0, inplace = True)"
   ]
  },
  {
   "cell_type": "code",
   "execution_count": 16,
   "metadata": {},
   "outputs": [
    {
     "data": {
      "text/plain": [
       "<AxesSubplot: xlabel='Date'>"
      ]
     },
     "execution_count": 16,
     "metadata": {},
     "output_type": "execute_result"
    },
    {
     "data": {
      "image/png": "[encoded data removed]",
      "text/plain": [
       "<Figure size 864x432 with 1 Axes>"
      ]
     },
     "metadata": {
      "needs_background": "light"
     },
     "output_type": "display_data"
    }
   ],
   "source": [
    "INFY_df['Day_Perc_Change'].plot(figsize = (12, 6), fontsize = 12)"
   ]
  },
  {
   "cell_type": "markdown",
   "metadata": {},
   "source": [
    "I observed here that the mostly the spike is between the -2% and 2% and there are some few spikes between 10 to -10 percent on both the sides."
   ]
  },
  {
   "cell_type": "code",
   "execution_count": 17,
   "metadata": {},
   "outputs": [
    {
     "data": {
      "image/png": "[encoded data removed]",
      "text/plain": [
       "<Figure size 720x360 with 1 Axes>"
      ]
     },
     "metadata": {
      "needs_background": "light"
     },
     "output_type": "display_data"
    },
    {
     "data": {
      "text/plain": [
       "count    988.000000\n",
       "mean       0.150372\n",
       "std        1.850300\n",
       "min      -15.305948\n",
       "25%       -0.783666\n",
       "50%        0.153257\n",
       "75%        1.012761\n",
       "max       12.032682\n",
       "Name: Day_Perc_Change, dtype: float64"
      ]
     },
     "execution_count": 17,
     "metadata": {},
     "output_type": "execute_result"
    }
   ],
   "source": [
    "INFY_df['Day_Perc_Change'].hist(bins = 50, figsize = (10,5)) \n",
    "plt.xlabel('Daily returns')\n",
    "plt.ylabel('Frequency')\n",
    "plt.show()#satistics\n",
    "INFY_df.Day_Perc_Change.describe()"
   ]
  },
  {
   "cell_type": "markdown",
   "metadata": {},
   "source": [
    "Trend Analysis"
   ]
  },
  {
   "cell_type": "markdown",
   "metadata": {},
   "source": [
    "Here we will make a function to define the trend. Will do it with the if  else statements."
   ]
  },
  {
   "cell_type": "code",
   "execution_count": 18,
   "metadata": {},
   "outputs": [
    {
     "data": {
      "text/html": [
       "<div>\n",
       "<style scoped>\n",
       "    .dataframe tbody tr th:only-of-type {\n",
       "        vertical-align: middle;\n",
       "    }\n",
       "\n",
       "    .dataframe tbody tr th {\n",
       "        vertical-align: top;\n",
       "    }\n",
       "\n",
       "    .dataframe thead th {\n",
       "        text-align: right;\n",
       "    }\n",
       "</style>\n",
       "<table border=\"1\" class=\"dataframe\">\n",
       "  <thead>\n",
       "    <tr style=\"text-align: right;\">\n",
       "      <th></th>\n",
       "      <th>Date</th>\n",
       "      <th>Open</th>\n",
       "      <th>High</th>\n",
       "      <th>Low</th>\n",
       "      <th>Close</th>\n",
       "      <th>Adj Close</th>\n",
       "      <th>Volume</th>\n",
       "      <th>Day_Perc_Change</th>\n",
       "      <th>Trend</th>\n",
       "    </tr>\n",
       "    <tr>\n",
       "      <th>Date</th>\n",
       "      <th></th>\n",
       "      <th></th>\n",
       "      <th></th>\n",
       "      <th></th>\n",
       "      <th></th>\n",
       "      <th></th>\n",
       "      <th></th>\n",
       "      <th></th>\n",
       "      <th></th>\n",
       "    </tr>\n",
       "  </thead>\n",
       "  <tbody>\n",
       "    <tr>\n",
       "      <th>2018-04-03</th>\n",
       "      <td>2018-04-03</td>\n",
       "      <td>567.35</td>\n",
       "      <td>571.78</td>\n",
       "      <td>564.05</td>\n",
       "      <td>570.22</td>\n",
       "      <td>502.54</td>\n",
       "      <td>4077168</td>\n",
       "      <td>0.291371</td>\n",
       "      <td>Slight or No change</td>\n",
       "    </tr>\n",
       "    <tr>\n",
       "      <th>2018-04-04</th>\n",
       "      <td>2018-04-04</td>\n",
       "      <td>572.00</td>\n",
       "      <td>572.28</td>\n",
       "      <td>560.00</td>\n",
       "      <td>562.10</td>\n",
       "      <td>495.38</td>\n",
       "      <td>4813302</td>\n",
       "      <td>-1.424762</td>\n",
       "      <td>Negative</td>\n",
       "    </tr>\n",
       "    <tr>\n",
       "      <th>2018-04-05</th>\n",
       "      <td>2018-04-05</td>\n",
       "      <td>569.78</td>\n",
       "      <td>575.65</td>\n",
       "      <td>564.55</td>\n",
       "      <td>573.78</td>\n",
       "      <td>505.66</td>\n",
       "      <td>7763544</td>\n",
       "      <td>2.075175</td>\n",
       "      <td>Positive</td>\n",
       "    </tr>\n",
       "    <tr>\n",
       "      <th>2018-04-06</th>\n",
       "      <td>2018-04-06</td>\n",
       "      <td>571.50</td>\n",
       "      <td>573.00</td>\n",
       "      <td>561.05</td>\n",
       "      <td>563.50</td>\n",
       "      <td>496.61</td>\n",
       "      <td>5937742</td>\n",
       "      <td>-1.789740</td>\n",
       "      <td>Negative</td>\n",
       "    </tr>\n",
       "    <tr>\n",
       "      <th>2018-04-09</th>\n",
       "      <td>2018-04-09</td>\n",
       "      <td>562.50</td>\n",
       "      <td>562.90</td>\n",
       "      <td>553.28</td>\n",
       "      <td>555.62</td>\n",
       "      <td>489.67</td>\n",
       "      <td>7202882</td>\n",
       "      <td>-1.397475</td>\n",
       "      <td>Negative</td>\n",
       "    </tr>\n",
       "  </tbody>\n",
       "</table>\n",
       "</div>"
      ],
      "text/plain": [
       "                 Date    Open    High     Low   Close  Adj Close   Volume  \\\n",
       "Date                                                                        \n",
       "2018-04-03 2018-04-03  567.35  571.78  564.05  570.22     502.54  4077168   \n",
       "2018-04-04 2018-04-04  572.00  572.28  560.00  562.10     495.38  4813302   \n",
       "2018-04-05 2018-04-05  569.78  575.65  564.55  573.78     505.66  7763544   \n",
       "2018-04-06 2018-04-06  571.50  573.00  561.05  563.50     496.61  5937742   \n",
       "2018-04-09 2018-04-09  562.50  562.90  553.28  555.62     489.67  7202882   \n",
       "\n",
       "            Day_Perc_Change                Trend  \n",
       "Date                                              \n",
       "2018-04-03         0.291371  Slight or No change  \n",
       "2018-04-04        -1.424762             Negative  \n",
       "2018-04-05         2.075175             Positive  \n",
       "2018-04-06        -1.789740             Negative  \n",
       "2018-04-09        -1.397475             Negative  "
      ]
     },
     "execution_count": 18,
     "metadata": {},
     "output_type": "execute_result"
    }
   ],
   "source": [
    "def trend(x):\n",
    "    if x > -0.5 and x <= 0.5:\n",
    "        return 'Slight or No change'\n",
    "    elif x > 0.5 and x <= 1:\n",
    "        return 'Slight Positive'\n",
    "    elif x > -1 and x <= -0.5:\n",
    "        return 'Slight Negative'\n",
    "    elif x > 1 and x <= 3:\n",
    "        return 'Positive'\n",
    "    elif x > -3 and x <= -1:\n",
    "        return 'Negative'\n",
    "    elif x > 3 and x <= 7:\n",
    "        return 'Among top gainers'\n",
    "    elif x > -7 and x <= -3:\n",
    "        return 'Among top losers'\n",
    "    elif x > 7:\n",
    "        return 'Bull run'\n",
    "    elif x <= -7:\n",
    "        return 'Bear drop'\n",
    "INFY_df['Trend']= np.zeros(INFY_df['Day_Perc_Change'].count())\n",
    "INFY_df['Trend']= INFY_df['Day_Perc_Change'].apply(lambda x:trend(x))\n",
    "INFY_df.head()"
   ]
  }
 ],
 "metadata": {
  "kernelspec": {
   "display_name": "Python 3.10.1 64-bit",
   "language": "python",
   "name": "python3"
  },
  "language_info": {
   "codemirror_mode": {
    "name": "ipython",
    "version": 3
   },
   "file_extension": ".py",
   "mimetype": "text/x-python",
   "name": "python",
   "nbconvert_exporter": "python",
   "pygments_lexer": "ipython3",
   "version": "3.10.1"
  },
  "orig_nbformat": 4,
  "vscode": {
   "interpreter": {
    "hash": "53875ad8cbc45f636b1581a3c0c567d0e426d357c999676f9933d75e989836be"
   }
  }
 },
 "nbformat": 4,
 "nbformat_minor": 2
}
